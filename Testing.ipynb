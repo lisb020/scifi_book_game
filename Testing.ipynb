{
 "cells": [
  {
   "cell_type": "code",
   "execution_count": 1,
   "metadata": {},
   "outputs": [],
   "source": [
    "# !pip install lazypredict"
   ]
  },
  {
   "cell_type": "code",
   "execution_count": 2,
   "metadata": {},
   "outputs": [
    {
     "data": {
      "text/html": [
       "<div>\n",
       "<style scoped>\n",
       "    .dataframe tbody tr th:only-of-type {\n",
       "        vertical-align: middle;\n",
       "    }\n",
       "\n",
       "    .dataframe tbody tr th {\n",
       "        vertical-align: top;\n",
       "    }\n",
       "\n",
       "    .dataframe thead th {\n",
       "        text-align: right;\n",
       "    }\n",
       "</style>\n",
       "<table border=\"1\" class=\"dataframe\">\n",
       "  <thead>\n",
       "    <tr style=\"text-align: right;\">\n",
       "      <th></th>\n",
       "      <th>Unnamed: 0</th>\n",
       "      <th>Book_Title</th>\n",
       "      <th>Rating_score</th>\n",
       "      <th>Rating_votes</th>\n",
       "      <th>Book_Description</th>\n",
       "      <th>subgenre</th>\n",
       "    </tr>\n",
       "  </thead>\n",
       "  <tbody>\n",
       "    <tr>\n",
       "      <th>0</th>\n",
       "      <td>0</td>\n",
       "      <td>Obsidian</td>\n",
       "      <td>4.17</td>\n",
       "      <td>236780</td>\n",
       "      <td>Starting over sucks When we moved to West Virg...</td>\n",
       "      <td>sf_aliens</td>\n",
       "    </tr>\n",
       "    <tr>\n",
       "      <th>1</th>\n",
       "      <td>1</td>\n",
       "      <td>Onyx</td>\n",
       "      <td>4.27</td>\n",
       "      <td>153429</td>\n",
       "      <td>BEING CONNECTED TO DAEMON BLACK SUCKS… Thanks ...</td>\n",
       "      <td>sf_aliens</td>\n",
       "    </tr>\n",
       "    <tr>\n",
       "      <th>2</th>\n",
       "      <td>2</td>\n",
       "      <td>The 5th Wave</td>\n",
       "      <td>4.03</td>\n",
       "      <td>400600</td>\n",
       "      <td>After the 1st wave  only darkness remains  Aft...</td>\n",
       "      <td>sf_aliens</td>\n",
       "    </tr>\n",
       "    <tr>\n",
       "      <th>3</th>\n",
       "      <td>3</td>\n",
       "      <td>The Host</td>\n",
       "      <td>3.84</td>\n",
       "      <td>915026</td>\n",
       "      <td>Melanie Stryder refuses to fade away  The eart...</td>\n",
       "      <td>sf_aliens</td>\n",
       "    </tr>\n",
       "    <tr>\n",
       "      <th>4</th>\n",
       "      <td>5</td>\n",
       "      <td>Origin</td>\n",
       "      <td>4.35</td>\n",
       "      <td>93979</td>\n",
       "      <td>Daemon will do anything to get Katy back After...</td>\n",
       "      <td>sf_aliens</td>\n",
       "    </tr>\n",
       "  </tbody>\n",
       "</table>\n",
       "</div>"
      ],
      "text/plain": [
       "   Unnamed: 0    Book_Title  Rating_score  Rating_votes  \\\n",
       "0           0      Obsidian          4.17        236780   \n",
       "1           1          Onyx          4.27        153429   \n",
       "2           2  The 5th Wave          4.03        400600   \n",
       "3           3      The Host          3.84        915026   \n",
       "4           5        Origin          4.35         93979   \n",
       "\n",
       "                                    Book_Description   subgenre  \n",
       "0  Starting over sucks When we moved to West Virg...  sf_aliens  \n",
       "1  BEING CONNECTED TO DAEMON BLACK SUCKS… Thanks ...  sf_aliens  \n",
       "2  After the 1st wave  only darkness remains  Aft...  sf_aliens  \n",
       "3  Melanie Stryder refuses to fade away  The eart...  sf_aliens  \n",
       "4  Daemon will do anything to get Katy back After...  sf_aliens  "
      ]
     },
     "execution_count": 2,
     "metadata": {},
     "output_type": "execute_result"
    }
   ],
   "source": [
    "import pandas as pd\n",
    "url = 'https://raw.githubusercontent.com/lisb020/scifi_book_game/main/BookList.csv'\n",
    "pd_df = pd.read_csv(url)\n",
    "\n",
    "pd_df.head()"
   ]
  },
  {
   "cell_type": "code",
   "execution_count": 3,
   "metadata": {},
   "outputs": [
    {
     "data": {
      "text/html": [
       "<div>\n",
       "<style scoped>\n",
       "    .dataframe tbody tr th:only-of-type {\n",
       "        vertical-align: middle;\n",
       "    }\n",
       "\n",
       "    .dataframe tbody tr th {\n",
       "        vertical-align: top;\n",
       "    }\n",
       "\n",
       "    .dataframe thead th {\n",
       "        text-align: right;\n",
       "    }\n",
       "</style>\n",
       "<table border=\"1\" class=\"dataframe\">\n",
       "  <thead>\n",
       "    <tr style=\"text-align: right;\">\n",
       "      <th></th>\n",
       "      <th>Book_Title</th>\n",
       "      <th>Rating_score</th>\n",
       "      <th>Rating_votes</th>\n",
       "      <th>Book_Description</th>\n",
       "      <th>subgenre</th>\n",
       "    </tr>\n",
       "  </thead>\n",
       "  <tbody>\n",
       "    <tr>\n",
       "      <th>0</th>\n",
       "      <td>Obsidian</td>\n",
       "      <td>4.17</td>\n",
       "      <td>236780</td>\n",
       "      <td>Starting over sucks When we moved to West Virg...</td>\n",
       "      <td>sf_aliens</td>\n",
       "    </tr>\n",
       "    <tr>\n",
       "      <th>1</th>\n",
       "      <td>Onyx</td>\n",
       "      <td>4.27</td>\n",
       "      <td>153429</td>\n",
       "      <td>BEING CONNECTED TO DAEMON BLACK SUCKS… Thanks ...</td>\n",
       "      <td>sf_aliens</td>\n",
       "    </tr>\n",
       "    <tr>\n",
       "      <th>2</th>\n",
       "      <td>The 5th Wave</td>\n",
       "      <td>4.03</td>\n",
       "      <td>400600</td>\n",
       "      <td>After the 1st wave  only darkness remains  Aft...</td>\n",
       "      <td>sf_aliens</td>\n",
       "    </tr>\n",
       "    <tr>\n",
       "      <th>3</th>\n",
       "      <td>The Host</td>\n",
       "      <td>3.84</td>\n",
       "      <td>915026</td>\n",
       "      <td>Melanie Stryder refuses to fade away  The eart...</td>\n",
       "      <td>sf_aliens</td>\n",
       "    </tr>\n",
       "    <tr>\n",
       "      <th>4</th>\n",
       "      <td>Origin</td>\n",
       "      <td>4.35</td>\n",
       "      <td>93979</td>\n",
       "      <td>Daemon will do anything to get Katy back After...</td>\n",
       "      <td>sf_aliens</td>\n",
       "    </tr>\n",
       "  </tbody>\n",
       "</table>\n",
       "</div>"
      ],
      "text/plain": [
       "     Book_Title  Rating_score  Rating_votes  \\\n",
       "0      Obsidian          4.17        236780   \n",
       "1          Onyx          4.27        153429   \n",
       "2  The 5th Wave          4.03        400600   \n",
       "3      The Host          3.84        915026   \n",
       "4        Origin          4.35         93979   \n",
       "\n",
       "                                    Book_Description   subgenre  \n",
       "0  Starting over sucks When we moved to West Virg...  sf_aliens  \n",
       "1  BEING CONNECTED TO DAEMON BLACK SUCKS… Thanks ...  sf_aliens  \n",
       "2  After the 1st wave  only darkness remains  Aft...  sf_aliens  \n",
       "3  Melanie Stryder refuses to fade away  The eart...  sf_aliens  \n",
       "4  Daemon will do anything to get Katy back After...  sf_aliens  "
      ]
     },
     "execution_count": 3,
     "metadata": {},
     "output_type": "execute_result"
    }
   ],
   "source": [
    "pd_df.drop(columns=\"Unnamed: 0\", inplace=True)\n",
    "pd_df.head()"
   ]
  },
  {
   "cell_type": "code",
   "execution_count": 4,
   "metadata": {},
   "outputs": [
    {
     "data": {
      "text/html": [
       "<div>\n",
       "<style scoped>\n",
       "    .dataframe tbody tr th:only-of-type {\n",
       "        vertical-align: middle;\n",
       "    }\n",
       "\n",
       "    .dataframe tbody tr th {\n",
       "        vertical-align: top;\n",
       "    }\n",
       "\n",
       "    .dataframe thead th {\n",
       "        text-align: right;\n",
       "    }\n",
       "</style>\n",
       "<table border=\"1\" class=\"dataframe\">\n",
       "  <thead>\n",
       "    <tr style=\"text-align: right;\">\n",
       "      <th></th>\n",
       "      <th>Book_Title</th>\n",
       "      <th>Rating_score</th>\n",
       "      <th>Rating_votes</th>\n",
       "      <th>Book_Description</th>\n",
       "      <th>subgenre</th>\n",
       "      <th>text_clean</th>\n",
       "    </tr>\n",
       "  </thead>\n",
       "  <tbody>\n",
       "    <tr>\n",
       "      <th>0</th>\n",
       "      <td>Obsidian</td>\n",
       "      <td>4.17</td>\n",
       "      <td>236780</td>\n",
       "      <td>Starting over sucks When we moved to West Virg...</td>\n",
       "      <td>sf_aliens</td>\n",
       "      <td>starting over sucks when we moved to west virg...</td>\n",
       "    </tr>\n",
       "    <tr>\n",
       "      <th>1</th>\n",
       "      <td>Onyx</td>\n",
       "      <td>4.27</td>\n",
       "      <td>153429</td>\n",
       "      <td>BEING CONNECTED TO DAEMON BLACK SUCKS… Thanks ...</td>\n",
       "      <td>sf_aliens</td>\n",
       "      <td>being connected to daemon black sucks thanks t...</td>\n",
       "    </tr>\n",
       "    <tr>\n",
       "      <th>2</th>\n",
       "      <td>The 5th Wave</td>\n",
       "      <td>4.03</td>\n",
       "      <td>400600</td>\n",
       "      <td>After the 1st wave  only darkness remains  Aft...</td>\n",
       "      <td>sf_aliens</td>\n",
       "      <td>after the st wave  only darkness remains  afte...</td>\n",
       "    </tr>\n",
       "    <tr>\n",
       "      <th>3</th>\n",
       "      <td>The Host</td>\n",
       "      <td>3.84</td>\n",
       "      <td>915026</td>\n",
       "      <td>Melanie Stryder refuses to fade away  The eart...</td>\n",
       "      <td>sf_aliens</td>\n",
       "      <td>melanie stryder refuses to fade away  the eart...</td>\n",
       "    </tr>\n",
       "    <tr>\n",
       "      <th>4</th>\n",
       "      <td>Origin</td>\n",
       "      <td>4.35</td>\n",
       "      <td>93979</td>\n",
       "      <td>Daemon will do anything to get Katy back After...</td>\n",
       "      <td>sf_aliens</td>\n",
       "      <td>daemon will do anything to get katy back after...</td>\n",
       "    </tr>\n",
       "  </tbody>\n",
       "</table>\n",
       "</div>"
      ],
      "text/plain": [
       "     Book_Title  Rating_score  Rating_votes  \\\n",
       "0      Obsidian          4.17        236780   \n",
       "1          Onyx          4.27        153429   \n",
       "2  The 5th Wave          4.03        400600   \n",
       "3      The Host          3.84        915026   \n",
       "4        Origin          4.35         93979   \n",
       "\n",
       "                                    Book_Description   subgenre  \\\n",
       "0  Starting over sucks When we moved to West Virg...  sf_aliens   \n",
       "1  BEING CONNECTED TO DAEMON BLACK SUCKS… Thanks ...  sf_aliens   \n",
       "2  After the 1st wave  only darkness remains  Aft...  sf_aliens   \n",
       "3  Melanie Stryder refuses to fade away  The eart...  sf_aliens   \n",
       "4  Daemon will do anything to get Katy back After...  sf_aliens   \n",
       "\n",
       "                                          text_clean  \n",
       "0  starting over sucks when we moved to west virg...  \n",
       "1  being connected to daemon black sucks thanks t...  \n",
       "2  after the st wave  only darkness remains  afte...  \n",
       "3  melanie stryder refuses to fade away  the eart...  \n",
       "4  daemon will do anything to get katy back after...  "
      ]
     },
     "execution_count": 4,
     "metadata": {},
     "output_type": "execute_result"
    }
   ],
   "source": [
    "import re\n",
    "def  clean_text(df, text_field, new_text_field_name):\n",
    "    df[new_text_field_name] = df[text_field].str.lower()\n",
    "    df[new_text_field_name] = df[new_text_field_name].apply(lambda elem: re.sub(r\"(@[A-Za-z0-9]+)|([^0-9A-Za-z \\t])|(\\w+:\\/\\/\\S+)|^rt|http.+?\", \"\", str(elem)))  \n",
    "    # remove numbers\n",
    "    df[new_text_field_name] = df[new_text_field_name].apply(lambda elem: re.sub(r\"\\d+\", \"\", elem))\n",
    "    \n",
    "    return df\n",
    "data_clean = clean_text(pd_df, 'Book_Description', 'text_clean')\n",
    "data_clean.head()"
   ]
  },
  {
   "cell_type": "code",
   "execution_count": 5,
   "metadata": {},
   "outputs": [
    {
     "ename": "ModuleNotFoundError",
     "evalue": "No module named 'nltk'",
     "output_type": "error",
     "traceback": [
      "\u001b[0;31m---------------------------------------------------------------------------\u001b[0m",
      "\u001b[0;31mModuleNotFoundError\u001b[0m                       Traceback (most recent call last)",
      "\u001b[0;32m<ipython-input-5-542281f9388a>\u001b[0m in \u001b[0;36m<module>\u001b[0;34m()\u001b[0m\n\u001b[0;32m----> 1\u001b[0;31m \u001b[0;32mimport\u001b[0m \u001b[0mnltk\u001b[0m\u001b[0;34m.\u001b[0m\u001b[0mcorpus\u001b[0m\u001b[0;34m\u001b[0m\u001b[0;34m\u001b[0m\u001b[0m\n\u001b[0m\u001b[1;32m      2\u001b[0m \u001b[0mnltk\u001b[0m\u001b[0;34m.\u001b[0m\u001b[0mdownload\u001b[0m\u001b[0;34m(\u001b[0m\u001b[0;34m'stopwords'\u001b[0m\u001b[0;34m)\u001b[0m\u001b[0;34m\u001b[0m\u001b[0;34m\u001b[0m\u001b[0m\n\u001b[1;32m      3\u001b[0m \u001b[0;32mfrom\u001b[0m \u001b[0mnltk\u001b[0m\u001b[0;34m.\u001b[0m\u001b[0mcorpus\u001b[0m \u001b[0;32mimport\u001b[0m \u001b[0mstopwords\u001b[0m\u001b[0;34m\u001b[0m\u001b[0;34m\u001b[0m\u001b[0m\n\u001b[1;32m      4\u001b[0m \u001b[0mstop\u001b[0m \u001b[0;34m=\u001b[0m \u001b[0mstopwords\u001b[0m\u001b[0;34m.\u001b[0m\u001b[0mwords\u001b[0m\u001b[0;34m(\u001b[0m\u001b[0;34m'english'\u001b[0m\u001b[0;34m)\u001b[0m\u001b[0;34m\u001b[0m\u001b[0;34m\u001b[0m\u001b[0m\n\u001b[1;32m      5\u001b[0m \u001b[0mdata_clean\u001b[0m\u001b[0;34m[\u001b[0m\u001b[0;34m'text_clean'\u001b[0m\u001b[0;34m]\u001b[0m \u001b[0;34m=\u001b[0m \u001b[0mdata_clean\u001b[0m\u001b[0;34m[\u001b[0m\u001b[0;34m'text_clean'\u001b[0m\u001b[0;34m]\u001b[0m\u001b[0;34m.\u001b[0m\u001b[0mapply\u001b[0m\u001b[0;34m(\u001b[0m\u001b[0;32mlambda\u001b[0m \u001b[0mx\u001b[0m\u001b[0;34m:\u001b[0m \u001b[0;34m' '\u001b[0m\u001b[0;34m.\u001b[0m\u001b[0mjoin\u001b[0m\u001b[0;34m(\u001b[0m\u001b[0;34m[\u001b[0m\u001b[0mword\u001b[0m \u001b[0;32mfor\u001b[0m \u001b[0mword\u001b[0m \u001b[0;32min\u001b[0m \u001b[0mx\u001b[0m\u001b[0;34m.\u001b[0m\u001b[0msplit\u001b[0m\u001b[0;34m(\u001b[0m\u001b[0;34m)\u001b[0m \u001b[0;32mif\u001b[0m \u001b[0mword\u001b[0m \u001b[0;32mnot\u001b[0m \u001b[0;32min\u001b[0m \u001b[0;34m(\u001b[0m\u001b[0mstop\u001b[0m\u001b[0;34m)\u001b[0m\u001b[0;34m]\u001b[0m\u001b[0;34m)\u001b[0m\u001b[0;34m)\u001b[0m\u001b[0;34m\u001b[0m\u001b[0;34m\u001b[0m\u001b[0m\n",
      "\u001b[0;31mModuleNotFoundError\u001b[0m: No module named 'nltk'"
     ]
    }
   ],
   "source": [
    "import nltk.corpus\n",
    "nltk.download('stopwords')\n",
    "from nltk.corpus import stopwords\n",
    "stop = stopwords.words('english')\n",
    "data_clean['text_clean'] = data_clean['text_clean'].apply(lambda x: ' '.join([word for word in x.split() if word not in (stop)]))\n",
    "data_clean.head()"
   ]
  },
  {
   "cell_type": "code",
   "execution_count": null,
   "metadata": {},
   "outputs": [],
   "source": [
    "def remove_nums(row):\n",
    "  output = ''.join(c for c in str(row['text_clean']) if not c.isdigit())\n",
    "  return(output)\n",
    "\n",
    "data_clean['text_clean'] = data_clean.apply (lambda row: remove_nums(row), axis=1)"
   ]
  },
  {
   "cell_type": "code",
   "execution_count": null,
   "metadata": {},
   "outputs": [],
   "source": [
    "def remove_multi_spaces(row):\n",
    "  single_spaces = \" \".join(str(row['text_clean']).split())\n",
    "  return(single_spaces)\n",
    "\n",
    "data_clean['text_clean'] = data_clean.apply (lambda row: remove_multi_spaces(row), axis=1)"
   ]
  },
  {
   "cell_type": "code",
   "execution_count": null,
   "metadata": {},
   "outputs": [],
   "source": [
    "def remove_unicode(row):\n",
    "  string_encode = str(row['text_clean']).encode(\"ascii\", \"ignore\")\n",
    "  return(string_encode.decode())\n",
    "\n",
    "data_clean['text_clean'] = data_clean.apply (lambda row: remove_unicode(row), axis=1)"
   ]
  },
  {
   "cell_type": "code",
   "execution_count": null,
   "metadata": {},
   "outputs": [],
   "source": []
  },
  {
   "cell_type": "code",
   "execution_count": null,
   "metadata": {},
   "outputs": [],
   "source": []
  },
  {
   "cell_type": "code",
   "execution_count": null,
   "metadata": {},
   "outputs": [],
   "source": [
    "from sklearn.model_selection import train_test_split\n",
    "from sklearn.preprocessing import LabelEncoder\n",
    "from tensorflow.keras.utils import to_categorical\n",
    "X= data_clean['text_clean']\n",
    "y= data_clean['subgenre']\n",
    "X_train, X_test, y_train, y_test = train_test_split(\n",
    "    X, y, random_state=1)"
   ]
  },
  {
   "cell_type": "code",
   "execution_count": null,
   "metadata": {},
   "outputs": [],
   "source": [
    "from sklearn.preprocessing import LabelEncoder\n",
    "data = data_clean.values\n",
    "y = data[:, 4]\n",
    "label_encoder = LabelEncoder()\n",
    "label_encoder.fit(y)\n",
    "y = label_encoder.transform(y)\n",
    "print(y)"
   ]
  },
  {
   "cell_type": "code",
   "execution_count": null,
   "metadata": {},
   "outputs": [],
   "source": [
    "from sklearn.model_selection import train_test_split\n",
    "X_train, X_test, y_train, y_test = train_test_split(data_clean['text_clean'], y, random_state=1)\n",
    "print(X_train)\n",
    "print(y_train)"
   ]
  },
  {
   "cell_type": "code",
   "execution_count": null,
   "metadata": {},
   "outputs": [],
   "source": [
    "from sklearn.feature_extraction.text import CountVectorizer\n",
    "cv = CountVectorizer(strip_accents='ascii', token_pattern=u'(?ui)\\\\b\\\\w*[a-z]+\\\\w*\\\\b', lowercase=True, stop_words='english')\n",
    "X_train_cv = cv.fit_transform(X_train)\n",
    "X_test_cv = cv.transform(X_test)\n"
   ]
  },
  {
   "cell_type": "code",
   "execution_count": null,
   "metadata": {},
   "outputs": [],
   "source": [
    "word_freq_df = pd.DataFrame(X_train_cv.toarray(), columns=cv.get_feature_names())\n",
    "top_words_df = pd.DataFrame(word_freq_df.sum()).sort_values(0, ascending=False)\n",
    "top_words_df.head(10)"
   ]
  },
  {
   "cell_type": "code",
   "execution_count": null,
   "metadata": {},
   "outputs": [],
   "source": []
  },
  {
   "cell_type": "code",
   "execution_count": null,
   "metadata": {},
   "outputs": [],
   "source": [
    "from sklearn.naive_bayes import MultinomialNB\n",
    "naive_bayes = MultinomialNB()\n",
    "naive_bayes.fit(X_train_cv, y_train)\n",
    "predictions = naive_bayes.predict(X_test_cv)"
   ]
  },
  {
   "cell_type": "code",
   "execution_count": null,
   "metadata": {},
   "outputs": [],
   "source": [
    "from sklearn.metrics import accuracy_score, precision_score, recall_score\n",
    "print('Accuracy score: ', accuracy_score(y_test, predictions))\n",
    "print('Precision score: ', precision_score(y_test, predictions,average='micro'))\n",
    "print('Recall score: ', recall_score(y_test, predictions,average='micro'))"
   ]
  },
  {
   "cell_type": "code",
   "execution_count": null,
   "metadata": {},
   "outputs": [],
   "source": [
    "from sklearn.metrics import confusion_matrix\n",
    "import matplotlib.pyplot as plt\n",
    "import seaborn as sns\n",
    "cm = confusion_matrix(y_test, predictions)\n",
    "sns.heatmap(cm, square=True, annot=True, cmap='RdBu', cbar=False,\n",
    "xticklabels=['sf_aliens', 'sf_alternate_history', 'sf_alternate_universe',\n",
    "       'sf_apocalyptic', 'sf_cyberpunk', 'sf_dystopia', 'sf_hard',\n",
    "       'sf_military', 'sf_robots', 'sf_space_opera', 'sf_steampunk',\n",
    "       'sf_time_travel'], yticklabels=['sf_aliens', 'sf_alternate_history', 'sf_alternate_universe',\n",
    "       'sf_apocalyptic', 'sf_cyberpunk', 'sf_dystopia', 'sf_hard',\n",
    "       'sf_military', 'sf_robots', 'sf_space_opera', 'sf_steampunk',\n",
    "       'sf_time_travel'])\n",
    "plt.xlabel('true label')\n",
    "plt.ylabel('predicted label')"
   ]
  },
  {
   "cell_type": "code",
   "execution_count": null,
   "metadata": {},
   "outputs": [],
   "source": [
    "# import lazypredict\n",
    "# from lazypredict.Supervised import LazyClassifier\n",
    "# clf = LazyClassifier(verbose=0,ignore_warnings=True, custom_metric=None)\n",
    "# models,predictions = clf.fit(X_train_cv, X_test_cv, y_train, y_test)\n",
    "\n",
    "# print(models)"
   ]
  },
  {
   "cell_type": "code",
   "execution_count": null,
   "metadata": {},
   "outputs": [],
   "source": []
  }
 ],
 "metadata": {
  "kernelspec": {
   "display_name": "pythonEnvir",
   "language": "python",
   "name": "pythonenvir"
  },
  "language_info": {
   "codemirror_mode": {
    "name": "ipython",
    "version": 3
   },
   "file_extension": ".py",
   "mimetype": "text/x-python",
   "name": "python",
   "nbconvert_exporter": "python",
   "pygments_lexer": "ipython3",
   "version": "3.6.10"
  }
 },
 "nbformat": 4,
 "nbformat_minor": 4
}
