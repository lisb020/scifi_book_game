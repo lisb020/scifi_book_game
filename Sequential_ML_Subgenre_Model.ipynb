{
 "cells": [
  {
   "cell_type": "code",
   "execution_count": 1,
   "metadata": {
    "id": "9kg0H-8T6r-G"
   },
   "outputs": [],
   "source": [
    "import os\n",
    "import pandas as pd"
   ]
  },
  {
   "cell_type": "code",
   "execution_count": 2,
   "metadata": {
    "colab": {
     "base_uri": "https://localhost:8080/",
     "height": 202
    },
    "id": "dQMvrpeBp5D1",
    "outputId": "ca1f7f12-9cda-440c-db96-ec526b1d657b"
   },
   "outputs": [
    {
     "data": {
      "text/html": [
       "<div>\n",
       "<style scoped>\n",
       "    .dataframe tbody tr th:only-of-type {\n",
       "        vertical-align: middle;\n",
       "    }\n",
       "\n",
       "    .dataframe tbody tr th {\n",
       "        vertical-align: top;\n",
       "    }\n",
       "\n",
       "    .dataframe thead th {\n",
       "        text-align: right;\n",
       "    }\n",
       "</style>\n",
       "<table border=\"1\" class=\"dataframe\">\n",
       "  <thead>\n",
       "    <tr style=\"text-align: right;\">\n",
       "      <th></th>\n",
       "      <th>Unnamed: 0</th>\n",
       "      <th>Book_Title</th>\n",
       "      <th>Rating_score</th>\n",
       "      <th>Rating_votes</th>\n",
       "      <th>Book_Description</th>\n",
       "      <th>subgenre</th>\n",
       "    </tr>\n",
       "  </thead>\n",
       "  <tbody>\n",
       "    <tr>\n",
       "      <th>0</th>\n",
       "      <td>0</td>\n",
       "      <td>Obsidian</td>\n",
       "      <td>4.17</td>\n",
       "      <td>236780</td>\n",
       "      <td>Starting over sucks When we moved to West Virg...</td>\n",
       "      <td>sf_aliens</td>\n",
       "    </tr>\n",
       "    <tr>\n",
       "      <th>1</th>\n",
       "      <td>1</td>\n",
       "      <td>Onyx</td>\n",
       "      <td>4.27</td>\n",
       "      <td>153429</td>\n",
       "      <td>BEING CONNECTED TO DAEMON BLACK SUCKS… Thanks ...</td>\n",
       "      <td>sf_aliens</td>\n",
       "    </tr>\n",
       "    <tr>\n",
       "      <th>2</th>\n",
       "      <td>2</td>\n",
       "      <td>The 5th Wave</td>\n",
       "      <td>4.03</td>\n",
       "      <td>400600</td>\n",
       "      <td>After the 1st wave  only darkness remains  Aft...</td>\n",
       "      <td>sf_aliens</td>\n",
       "    </tr>\n",
       "    <tr>\n",
       "      <th>3</th>\n",
       "      <td>3</td>\n",
       "      <td>The Host</td>\n",
       "      <td>3.84</td>\n",
       "      <td>915026</td>\n",
       "      <td>Melanie Stryder refuses to fade away  The eart...</td>\n",
       "      <td>sf_aliens</td>\n",
       "    </tr>\n",
       "    <tr>\n",
       "      <th>4</th>\n",
       "      <td>5</td>\n",
       "      <td>Origin</td>\n",
       "      <td>4.35</td>\n",
       "      <td>93979</td>\n",
       "      <td>Daemon will do anything to get Katy back After...</td>\n",
       "      <td>sf_aliens</td>\n",
       "    </tr>\n",
       "  </tbody>\n",
       "</table>\n",
       "</div>"
      ],
      "text/plain": [
       "   Unnamed: 0    Book_Title  Rating_score  Rating_votes  \\\n",
       "0           0      Obsidian          4.17        236780   \n",
       "1           1          Onyx          4.27        153429   \n",
       "2           2  The 5th Wave          4.03        400600   \n",
       "3           3      The Host          3.84        915026   \n",
       "4           5        Origin          4.35         93979   \n",
       "\n",
       "                                    Book_Description   subgenre  \n",
       "0  Starting over sucks When we moved to West Virg...  sf_aliens  \n",
       "1  BEING CONNECTED TO DAEMON BLACK SUCKS… Thanks ...  sf_aliens  \n",
       "2  After the 1st wave  only darkness remains  Aft...  sf_aliens  \n",
       "3  Melanie Stryder refuses to fade away  The eart...  sf_aliens  \n",
       "4  Daemon will do anything to get Katy back After...  sf_aliens  "
      ]
     },
     "execution_count": 2,
     "metadata": {},
     "output_type": "execute_result"
    }
   ],
   "source": [
    "#to use the uncleaned data\n",
    "url = 'https://raw.githubusercontent.com/lisb020/scifi_book_game/main/BookList.csv'\n",
    "pd_df = pd.read_csv(url)\n",
    "pd_df.head()"
   ]
  },
  {
   "cell_type": "code",
   "execution_count": 3,
   "metadata": {
    "id": "9JQGj92m60R_"
   },
   "outputs": [],
   "source": [
    "#to use the uncleaned data\n",
    "url = 'https://raw.githubusercontent.com/lisb020/scifi_book_game/main/cleanedDf.csv'\n",
    "pd_df = pd.read_csv(url)"
   ]
  },
  {
   "cell_type": "code",
   "execution_count": 4,
   "metadata": {
    "colab": {
     "base_uri": "https://localhost:8080/",
     "height": 202
    },
    "id": "2GR935mbFGYj",
    "outputId": "95d178b6-e7d3-4ac2-e58c-e84b2af050a4"
   },
   "outputs": [
    {
     "data": {
      "text/html": [
       "<div>\n",
       "<style scoped>\n",
       "    .dataframe tbody tr th:only-of-type {\n",
       "        vertical-align: middle;\n",
       "    }\n",
       "\n",
       "    .dataframe tbody tr th {\n",
       "        vertical-align: top;\n",
       "    }\n",
       "\n",
       "    .dataframe thead th {\n",
       "        text-align: right;\n",
       "    }\n",
       "</style>\n",
       "<table border=\"1\" class=\"dataframe\">\n",
       "  <thead>\n",
       "    <tr style=\"text-align: right;\">\n",
       "      <th></th>\n",
       "      <th>Book_Title</th>\n",
       "      <th>Rating_score</th>\n",
       "      <th>Rating_votes</th>\n",
       "      <th>Book_Description</th>\n",
       "      <th>subgenre</th>\n",
       "      <th>rating</th>\n",
       "    </tr>\n",
       "  </thead>\n",
       "  <tbody>\n",
       "    <tr>\n",
       "      <th>0</th>\n",
       "      <td>Obsidian</td>\n",
       "      <td>4.17</td>\n",
       "      <td>236780</td>\n",
       "      <td>starting sucks moved right senior year id much...</td>\n",
       "      <td>sf_aliens</td>\n",
       "      <td>2</td>\n",
       "    </tr>\n",
       "    <tr>\n",
       "      <th>1</th>\n",
       "      <td>Onyx</td>\n",
       "      <td>4.27</td>\n",
       "      <td>153429</td>\n",
       "      <td>connected black sucks thanks alien mojo daemon...</td>\n",
       "      <td>sf_aliens</td>\n",
       "      <td>2</td>\n",
       "    </tr>\n",
       "    <tr>\n",
       "      <th>2</th>\n",
       "      <td>The 5th Wave</td>\n",
       "      <td>4.03</td>\n",
       "      <td>400600</td>\n",
       "      <td>wave darkness remains nd escape unlucky surviv...</td>\n",
       "      <td>sf_aliens</td>\n",
       "      <td>2</td>\n",
       "    </tr>\n",
       "    <tr>\n",
       "      <th>3</th>\n",
       "      <td>The Host</td>\n",
       "      <td>3.84</td>\n",
       "      <td>915026</td>\n",
       "      <td>refuses fade away invaded species take minds h...</td>\n",
       "      <td>sf_aliens</td>\n",
       "      <td>1</td>\n",
       "    </tr>\n",
       "    <tr>\n",
       "      <th>4</th>\n",
       "      <td>Origin</td>\n",
       "      <td>4.35</td>\n",
       "      <td>93979</td>\n",
       "      <td>anything get back successful disastrous mount ...</td>\n",
       "      <td>sf_aliens</td>\n",
       "      <td>2</td>\n",
       "    </tr>\n",
       "  </tbody>\n",
       "</table>\n",
       "</div>"
      ],
      "text/plain": [
       "     Book_Title  Rating_score  Rating_votes  \\\n",
       "0      Obsidian          4.17        236780   \n",
       "1          Onyx          4.27        153429   \n",
       "2  The 5th Wave          4.03        400600   \n",
       "3      The Host          3.84        915026   \n",
       "4        Origin          4.35         93979   \n",
       "\n",
       "                                    Book_Description   subgenre  rating  \n",
       "0  starting sucks moved right senior year id much...  sf_aliens       2  \n",
       "1  connected black sucks thanks alien mojo daemon...  sf_aliens       2  \n",
       "2  wave darkness remains nd escape unlucky surviv...  sf_aliens       2  \n",
       "3  refuses fade away invaded species take minds h...  sf_aliens       1  \n",
       "4  anything get back successful disastrous mount ...  sf_aliens       2  "
      ]
     },
     "execution_count": 4,
     "metadata": {},
     "output_type": "execute_result"
    }
   ],
   "source": [
    "pd_df.drop(columns=\"Unnamed: 0\", inplace=True)\n",
    "pd_df.head()"
   ]
  },
  {
   "cell_type": "code",
   "execution_count": 5,
   "metadata": {
    "id": "-BkGqD8RMe6O"
   },
   "outputs": [],
   "source": [
    "import math\n",
    "def round_down(row):\n",
    "    if (row['Rating_score']>= 4):\n",
    "      return str(2)\n",
    "    elif (row['Rating_score']>= 3.75):\n",
    "      return str(1)\n",
    "    else:\n",
    "      return str(0)\n",
    "\n",
    "\n",
    "pd_df['rating'] = pd_df.apply (lambda row: round_down(row), axis=1) "
   ]
  },
  {
   "cell_type": "code",
   "execution_count": 6,
   "metadata": {
    "colab": {
     "base_uri": "https://localhost:8080/"
    },
    "id": "KttSiu91-13F",
    "outputId": "8bba33b2-018c-430e-f70c-9c24d7a34e9d"
   },
   "outputs": [
    {
     "name": "stdout",
     "output_type": "stream",
     "text": [
      "2    4230\n",
      "1    3336\n",
      "0    2674\n",
      "Name: rating, dtype: int64\n"
     ]
    }
   ],
   "source": [
    "print(pd_df['rating'].value_counts())"
   ]
  },
  {
   "cell_type": "code",
   "execution_count": 7,
   "metadata": {
    "id": "RPvQOXcqnxPP"
   },
   "outputs": [],
   "source": [
    "def remove_nums(row):\n",
    "  output = ''.join(c for c in str(row['Book_Description']) if not c.isdigit())\n",
    "  return(output)\n",
    "\n",
    "pd_df['Book_Description'] = pd_df.apply (lambda row: remove_nums(row), axis=1) "
   ]
  },
  {
   "cell_type": "code",
   "execution_count": 8,
   "metadata": {
    "id": "TAeGZCXL6txJ"
   },
   "outputs": [],
   "source": [
    "def remove_multi_spaces(row):\n",
    "  single_spaces = \" \".join(str(row['Book_Description']).split())\n",
    "  return(single_spaces)\n",
    "\n",
    "pd_df['Book_Description'] = pd_df.apply (lambda row: remove_multi_spaces(row), axis=1)   "
   ]
  },
  {
   "cell_type": "code",
   "execution_count": 9,
   "metadata": {
    "id": "FQlz_Skg6x7e"
   },
   "outputs": [],
   "source": [
    "def remove_unicode(row):\n",
    "  string_encode = str(row['Book_Description']).encode(\"ascii\", \"ignore\")\n",
    "  return(string_encode.decode())\n",
    "\n",
    "pd_df['Book_Description'] = pd_df.apply (lambda row: remove_unicode(row), axis=1) "
   ]
  },
  {
   "cell_type": "code",
   "execution_count": 10,
   "metadata": {
    "colab": {
     "base_uri": "https://localhost:8080/"
    },
    "id": "CkP2PTwdL02j",
    "outputId": "bbbee500-190b-4fd1-f62d-f8f23bd7168a"
   },
   "outputs": [
    {
     "data": {
      "text/plain": [
       "array(['sf_aliens', 'sf_alternate_history', 'sf_alternate_universe',\n",
       "       'sf_apocalyptic', 'sf_cyberpunk', 'sf_dystopia', 'sf_hard',\n",
       "       'sf_military', 'sf_robots', 'sf_space_opera', 'sf_steampunk',\n",
       "       'sf_time_travel'], dtype=object)"
      ]
     },
     "execution_count": 10,
     "metadata": {},
     "output_type": "execute_result"
    }
   ],
   "source": [
    "pd_df['subgenre'].unique()"
   ]
  },
  {
   "cell_type": "code",
   "execution_count": 11,
   "metadata": {
    "colab": {
     "base_uri": "https://localhost:8080/"
    },
    "id": "ZjMVoHsMFx71",
    "outputId": "e41baa32-b272-46db-9e9b-c2ea6df3d865"
   },
   "outputs": [],
   "source": [
    "## Run this only when you want to clean the data of stop words\n",
    "#import nltk\n",
    "# nltk.download('stopwords')\n",
    "\n",
    "# stop_words = nltk.corpus.stopwords.words(\"english\")\n",
    "\n",
    "# namesurl = 'https://raw.githubusercontent.com/lisb020/scifi_book_game/main/names_data.csv'\n",
    "# names_df = pd.read_csv(namesurl)\n",
    "\n",
    "# list_of_names = names_df['name'].to_list()\n",
    "# name_list = []\n",
    "# for name in list_of_names:\n",
    "#     name_list.append(name.lower())\n",
    "\n",
    "# stop_words.extend(name_list)\n",
    "# number_words =[\"one\",\"two\",\"three\",\"four\",\"five\",\"six\",\"seven\",\"eight\",\"nine\",\"ten\"]\n",
    "# stop_words.extend(number_words)\n",
    "# print(stop_words)\n",
    "# def filter_stop_words(row, stop_words):\n",
    "#   desc_list = [word for word in row['Book_Description'].lower().split() if word not in stop_words] \n",
    "#   return ' '.join(desc_list) \n",
    "\n",
    "\n",
    "#pd_df['Book_Description'] = pd_df.apply (lambda row: filter_stop_words(row,stop_words), axis=1) \n",
    "\n",
    "# desc = filter_stop_words(pd_df['Book_Description'].iloc[10].lower(),stop_words)\n",
    "# print(desc)\n",
    "#pd_df.to_csv(\"cleanedDf.csv\")"
   ]
  },
  {
   "cell_type": "code",
   "execution_count": null,
   "metadata": {
    "id": "Lt2HsB20iv_U"
   },
   "outputs": [],
   "source": []
  },
  {
   "cell_type": "code",
   "execution_count": 12,
   "metadata": {
    "colab": {
     "base_uri": "https://localhost:8080/"
    },
    "id": "Pl2AQJZ83hUn",
    "outputId": "d6b700e6-6db2-45d5-ee54-5609089b20fa"
   },
   "outputs": [
    {
     "name": "stdout",
     "output_type": "stream",
     "text": [
      "Found 49874 unique tokens.\n"
     ]
    }
   ],
   "source": [
    "from keras.models import Sequential\n",
    "from keras.layers import Dense, Embedding, LSTM, SpatialDropout1D\n",
    "from sklearn.model_selection import train_test_split\n",
    "from keras.utils.np_utils import to_categorical\n",
    "from keras.callbacks import EarlyStopping\n",
    "from keras.layers import Dropout\n",
    "from keras.preprocessing.text import Tokenizer as kerasTokenizer\n",
    "from keras.preprocessing.sequence import pad_sequences\n",
    "import numpy as np\n",
    "\n",
    "\n",
    "MAX_NB_WORDS = 50000\n",
    "# This is fixed.\n",
    "EMBEDDING_DIM = 100\n",
    "MAX_SEQUENCE_LENGTH = 250\n",
    "\n",
    "tokenizer = kerasTokenizer(num_words=MAX_NB_WORDS, filters='!\"#$%&()*+,-./:;<=>?@[\\]^_`{|}~', lower=True)\n",
    "tokenizer.fit_on_texts(pd_df['Book_Description'].values)\n",
    "word_index = tokenizer.word_index\n",
    "print('Found %s unique tokens.' % len(word_index))"
   ]
  },
  {
   "cell_type": "code",
   "execution_count": 13,
   "metadata": {
    "id": "4zTuOd0jKc9P"
   },
   "outputs": [],
   "source": [
    "import pickle\n",
    "\n",
    "# saving\n",
    "with open('tokenizer.pickle', 'wb') as handle:\n",
    "    pickle.dump(tokenizer, handle, protocol=pickle.HIGHEST_PROTOCOL)"
   ]
  },
  {
   "cell_type": "code",
   "execution_count": 14,
   "metadata": {
    "colab": {
     "base_uri": "https://localhost:8080/"
    },
    "id": "-z8-4G0W3hZ_",
    "outputId": "fa2dbc3a-b743-4018-daf1-e923f6d3a0fc"
   },
   "outputs": [
    {
     "name": "stdout",
     "output_type": "stream",
     "text": [
      "Shape of data tensor: (10240, 250)\n"
     ]
    }
   ],
   "source": [
    "\n",
    "X = tokenizer.texts_to_sequences(pd_df['Book_Description'].values)\n",
    "X = pad_sequences(X, maxlen=MAX_SEQUENCE_LENGTH)\n",
    "print('Shape of data tensor:', X.shape)\n"
   ]
  },
  {
   "cell_type": "code",
   "execution_count": 15,
   "metadata": {
    "colab": {
     "base_uri": "https://localhost:8080/"
    },
    "id": "RhqkaZ-U3hfn",
    "outputId": "8abf58bd-545d-46ea-f1f4-4caabfabadc2"
   },
   "outputs": [
    {
     "name": "stdout",
     "output_type": "stream",
     "text": [
      "Shape of label tensor: (10240, 12)\n",
      "[[1 0 0 ... 0 0 0]\n",
      " [1 0 0 ... 0 0 0]\n",
      " [1 0 0 ... 0 0 0]\n",
      " ...\n",
      " [0 0 0 ... 0 0 1]\n",
      " [0 0 0 ... 0 0 1]\n",
      " [0 0 0 ... 0 0 1]]\n"
     ]
    }
   ],
   "source": [
    "#SUBGENRE\n",
    "\n",
    "Y = pd.get_dummies(pd_df['subgenre']).values\n",
    "print('Shape of label tensor:', Y.shape)\n",
    "print(Y)"
   ]
  },
  {
   "cell_type": "code",
   "execution_count": 16,
   "metadata": {
    "colab": {
     "base_uri": "https://localhost:8080/"
    },
    "id": "RXQDMkX-3hlf",
    "outputId": "702addc5-0c57-484c-e1d2-986cdab8c181"
   },
   "outputs": [
    {
     "name": "stdout",
     "output_type": "stream",
     "text": [
      "(9216, 250) (9216, 12)\n",
      "(1024, 250) (1024, 12)\n"
     ]
    }
   ],
   "source": [
    "from sklearn.model_selection import train_test_split\n",
    "X_train, X_test, Y_train, Y_test = train_test_split(X,Y, test_size = 0.10, random_state = 42)\n",
    "print(X_train.shape,Y_train.shape)\n",
    "print(X_test.shape,Y_test.shape)"
   ]
  },
  {
   "cell_type": "code",
   "execution_count": 17,
   "metadata": {
    "colab": {
     "base_uri": "https://localhost:8080/"
    },
    "id": "Z1ibWaUt3hrb",
    "outputId": "7a8bc5a8-8b88-49d0-86c9-92a35c3bb3cb"
   },
   "outputs": [
    {
     "name": "stdout",
     "output_type": "stream",
     "text": [
      "Model: \"sequential\"\n",
      "_________________________________________________________________\n",
      "Layer (type)                 Output Shape              Param #   \n",
      "=================================================================\n",
      "embedding (Embedding)        (None, 250, 100)          5000000   \n",
      "_________________________________________________________________\n",
      "spatial_dropout1d (SpatialDr (None, 250, 100)          0         \n",
      "_________________________________________________________________\n",
      "lstm (LSTM)                  (None, 100)               80400     \n",
      "_________________________________________________________________\n",
      "dense (Dense)                (None, 12)                1212      \n",
      "=================================================================\n",
      "Total params: 5,081,612\n",
      "Trainable params: 5,081,612\n",
      "Non-trainable params: 0\n",
      "_________________________________________________________________\n",
      "None\n"
     ]
    }
   ],
   "source": [
    "model = Sequential()\n",
    "model.add(Embedding(MAX_NB_WORDS, EMBEDDING_DIM, input_length=X.shape[1]))\n",
    "model.add(SpatialDropout1D(0.2))\n",
    "model.add(LSTM(100, dropout=0.2, recurrent_dropout=0.2))\n",
    "model.add(Dense(12, activation='softmax'))\n",
    "model.compile(loss='categorical_crossentropy', optimizer='adamax', metrics=['accuracy'])\n",
    "print(model.summary())"
   ]
  },
  {
   "cell_type": "code",
   "execution_count": 18,
   "metadata": {
    "colab": {
     "base_uri": "https://localhost:8080/"
    },
    "id": "Ly8-Mqc__5T1",
    "outputId": "b54e1c96-4c78-4774-8757-e1e243c3e801"
   },
   "outputs": [
    {
     "name": "stdout",
     "output_type": "stream",
     "text": [
      "Epoch 1/30\n",
      "130/130 [==============================] - 125s 932ms/step - loss: 2.4650 - accuracy: 0.1107 - val_loss: 2.4508 - val_accuracy: 0.1161\n",
      "Epoch 2/30\n",
      "130/130 [==============================] - 123s 951ms/step - loss: 2.4254 - accuracy: 0.1327 - val_loss: 2.4201 - val_accuracy: 0.1367\n",
      "Epoch 3/30\n",
      "130/130 [==============================] - 124s 957ms/step - loss: 2.3184 - accuracy: 0.2024 - val_loss: 2.2652 - val_accuracy: 0.1996\n",
      "Epoch 4/30\n",
      "130/130 [==============================] - 124s 955ms/step - loss: 2.1698 - accuracy: 0.2558 - val_loss: 2.1718 - val_accuracy: 0.2473\n",
      "Epoch 5/30\n",
      "130/130 [==============================] - 126s 966ms/step - loss: 2.0579 - accuracy: 0.2676 - val_loss: 2.0988 - val_accuracy: 0.2646\n",
      "Epoch 6/30\n",
      "130/130 [==============================] - 125s 959ms/step - loss: 1.9433 - accuracy: 0.2890 - val_loss: 2.0179 - val_accuracy: 0.2744\n",
      "Epoch 7/30\n",
      "130/130 [==============================] - 125s 961ms/step - loss: 1.8086 - accuracy: 0.3466 - val_loss: 2.0103 - val_accuracy: 0.3189\n",
      "Epoch 8/30\n",
      "130/130 [==============================] - 126s 969ms/step - loss: 1.7458 - accuracy: 0.3690 - val_loss: 1.9618 - val_accuracy: 0.3373\n",
      "Epoch 9/30\n",
      "130/130 [==============================] - 126s 968ms/step - loss: 1.6345 - accuracy: 0.4161 - val_loss: 1.9579 - val_accuracy: 0.3362\n",
      "Epoch 10/30\n",
      "130/130 [==============================] - 126s 970ms/step - loss: 1.5652 - accuracy: 0.4455 - val_loss: 1.9413 - val_accuracy: 0.3644\n",
      "Epoch 11/30\n",
      "130/130 [==============================] - 124s 956ms/step - loss: 1.4652 - accuracy: 0.4805 - val_loss: 1.8721 - val_accuracy: 0.3937\n",
      "Epoch 12/30\n",
      "130/130 [==============================] - 124s 957ms/step - loss: 1.3911 - accuracy: 0.5061 - val_loss: 1.8814 - val_accuracy: 0.3959\n",
      "Epoch 13/30\n",
      "130/130 [==============================] - 126s 967ms/step - loss: 1.2800 - accuracy: 0.5494 - val_loss: 1.8590 - val_accuracy: 0.4046\n",
      "Epoch 14/30\n",
      "130/130 [==============================] - 127s 979ms/step - loss: 1.2311 - accuracy: 0.5685 - val_loss: 1.9024 - val_accuracy: 0.4111\n",
      "Epoch 15/30\n",
      "130/130 [==============================] - 128s 983ms/step - loss: 1.1801 - accuracy: 0.5833 - val_loss: 1.8638 - val_accuracy: 0.4132\n",
      "Epoch 16/30\n",
      "130/130 [==============================] - 128s 982ms/step - loss: 1.1179 - accuracy: 0.6117 - val_loss: 1.8545 - val_accuracy: 0.4121\n",
      "Epoch 17/30\n",
      "130/130 [==============================] - 127s 980ms/step - loss: 1.0629 - accuracy: 0.6268 - val_loss: 1.9961 - val_accuracy: 0.4176\n",
      "Epoch 18/30\n",
      "130/130 [==============================] - 127s 976ms/step - loss: 0.9909 - accuracy: 0.6500 - val_loss: 1.9343 - val_accuracy: 0.4252\n",
      "Epoch 19/30\n",
      "130/130 [==============================] - 127s 977ms/step - loss: 0.9235 - accuracy: 0.6710 - val_loss: 1.9265 - val_accuracy: 0.4284\n",
      "Epoch 20/30\n",
      "130/130 [==============================] - 128s 981ms/step - loss: 0.8747 - accuracy: 0.6891 - val_loss: 1.9094 - val_accuracy: 0.4284\n",
      "Epoch 21/30\n",
      "130/130 [==============================] - 127s 977ms/step - loss: 0.8210 - accuracy: 0.7222 - val_loss: 2.0472 - val_accuracy: 0.4328\n",
      "Epoch 22/30\n",
      "130/130 [==============================] - 133s 1s/step - loss: 0.7950 - accuracy: 0.7268 - val_loss: 1.9849 - val_accuracy: 0.4338\n",
      "Epoch 23/30\n",
      "130/130 [==============================] - 128s 987ms/step - loss: 0.7435 - accuracy: 0.7462 - val_loss: 1.9549 - val_accuracy: 0.4512\n",
      "Epoch 24/30\n",
      "130/130 [==============================] - 128s 985ms/step - loss: 0.6926 - accuracy: 0.7645 - val_loss: 1.9851 - val_accuracy: 0.4447\n",
      "Epoch 25/30\n",
      "130/130 [==============================] - 128s 985ms/step - loss: 0.6501 - accuracy: 0.7753 - val_loss: 2.0808 - val_accuracy: 0.4371\n",
      "Epoch 26/30\n",
      "130/130 [==============================] - 129s 989ms/step - loss: 0.6343 - accuracy: 0.7922 - val_loss: 2.0423 - val_accuracy: 0.4469\n"
     ]
    }
   ],
   "source": [
    "\n",
    "epochs = 30\n",
    "batch_size = 64\n",
    "\n",
    "history = model.fit(X_train, Y_train, epochs=epochs, batch_size=batch_size,validation_split=0.1,callbacks=[EarlyStopping(monitor='val_loss', patience=10, min_delta=0.0002)])"
   ]
  },
  {
   "cell_type": "code",
   "execution_count": 19,
   "metadata": {
    "colab": {
     "base_uri": "https://localhost:8080/"
    },
    "id": "mvGMXcqi_5Xf",
    "outputId": "f4978c11-0750-497f-b4c0-993bff4bc002",
    "scrolled": true
   },
   "outputs": [
    {
     "name": "stdout",
     "output_type": "stream",
     "text": [
      "32/32 [==============================] - 2s 54ms/step - loss: 1.9900 - accuracy: 0.4541\n",
      "Model Test set\n",
      "  Loss: 1.990\n",
      "  Accuracy: 0.454\n"
     ]
    }
   ],
   "source": [
    "accr = model.evaluate(X_test,Y_test)\n",
    "print('Model Test set\\n  Loss: {:0.3f}\\n  Accuracy: {:0.3f}'.format(accr[0],accr[1]))"
   ]
  },
  {
   "cell_type": "code",
   "execution_count": 27,
   "metadata": {},
   "outputs": [
    {
     "data": {
      "image/png": "[encoded data removed]",
      "text/plain": [
       "<Figure size 432x288 with 1 Axes>"
      ]
     },
     "metadata": {
      "needs_background": "light"
     },
     "output_type": "display_data"
    }
   ],
   "source": [
    "import matplotlib.pyplot as plt\n",
    "def loss_plot(ax, fontsize=12):\n",
    "    ax.plot(history.history['loss'], label='train')\n",
    "    ax.plot(history.history['val_loss'], label='test')\n",
    "    ax.legend()\n",
    "    ax.set_title('Loss', fontsize=fontsize)\n",
    "\n",
    "plt.close('all')\n",
    "fig, ax = plt.subplots()\n",
    "loss_plot(ax, fontsize=24)\n",
    "plt.savefig('subgenre_model_loss.png')\n"
   ]
  },
  {
   "cell_type": "code",
   "execution_count": 21,
   "metadata": {
    "colab": {
     "base_uri": "https://localhost:8080/",
     "height": 299
    },
    "id": "2Dai4TfU_5aU",
    "outputId": "054f0606-6102-4277-ddad-77690bdbf67c",
    "scrolled": false
   },
   "outputs": [],
   "source": [
    "\n",
    "# plt.title('Loss')\n",
    "# plt.plot(history.history['loss'], label='train')\n",
    "# plt.plot(history.history['val_loss'], label='test')\n",
    "# plt.legend()\n",
    "# plt.tight_layout()\n",
    "# plt.show()\n",
    "\n",
    "# plt.savefig('subgenre_model_loss.png')"
   ]
  },
  {
   "cell_type": "code",
   "execution_count": 22,
   "metadata": {},
   "outputs": [
    {
     "data": {
      "image/png": "[encoded data removed]",
      "text/plain": [
       "<Figure size 432x288 with 1 Axes>"
      ]
     },
     "metadata": {
      "needs_background": "light"
     },
     "output_type": "display_data"
    }
   ],
   "source": [
    "def acc_plot(ax, fontsize=12):\n",
    "    ax.plot(history.history['accuracy'], label='train')\n",
    "    ax.plot(history.history['val_accuracy'], label='test')\n",
    "    ax.legend()\n",
    "    ax.set_title('Accuracy', fontsize=fontsize)\n",
    "\n",
    "plt.close('all')\n",
    "fig, ax = plt.subplots()\n",
    "acc_plot(ax, fontsize=24)\n",
    "plt.savefig('subgenre_model_acc.png')"
   ]
  },
  {
   "cell_type": "code",
   "execution_count": 23,
   "metadata": {
    "colab": {
     "base_uri": "https://localhost:8080/",
     "height": 336
    },
    "id": "_YWrqQU0_5eK",
    "outputId": "4358303d-9843-4342-ec7d-4a55c3bd9081"
   },
   "outputs": [],
   "source": [
    "# print(history.history)\n",
    "# plt.title('Accuracy')\n",
    "# plt.plot(history.history['accuracy'], label='train')\n",
    "# plt.plot(history.history['val_accuracy'], label='test')\n",
    "# plt.legend()\n",
    "# plt.tight_layout()\n",
    "# plt.show()\n",
    "# plt.savefig(\"subgenre_model_acc.png\")"
   ]
  },
  {
   "cell_type": "code",
   "execution_count": 24,
   "metadata": {
    "colab": {
     "base_uri": "https://localhost:8080/"
    },
    "id": "JBj8_2N_J8Os",
    "outputId": "a765d21f-df70-4223-df7d-2e27b13e11a8"
   },
   "outputs": [
    {
     "name": "stdout",
     "output_type": "stream",
     "text": [
      "[[1.0650991e-02 1.1759328e-02 1.0011291e-01 8.3075255e-01 1.1473468e-02\n",
      "  7.3326658e-03 4.6854062e-04 6.6233962e-04 4.8784768e-05 4.3687076e-05\n",
      "  2.6512364e-02 1.8235370e-04]] sf_apocalyptic\n"
     ]
    }
   ],
   "source": [
    "#Test with a single input\n",
    "\n",
    "new_desc = [\"The zombie apocalypse is over. The humans have won. Life is back to normal. And Rip is bored as hell. It's not much of a life sitting in a call center in the poor town of Spanish Shanty, Florida, answering emails like a drone and listening to customer complaints.\"]\n",
    "seq = tokenizer.texts_to_sequences(new_desc)\n",
    "padded = pad_sequences(seq, maxlen=MAX_SEQUENCE_LENGTH)\n",
    "pred = model.predict(padded)\n",
    "labels = pd_df[\"subgenre\"].unique()\n",
    "print(pred, labels[np.argmax(pred)])"
   ]
  },
  {
   "cell_type": "code",
   "execution_count": 25,
   "metadata": {
    "id": "5pETx3FY6ohE"
   },
   "outputs": [],
   "source": [
    "model.save(\"subgenre_trained.h5\")"
   ]
  },
  {
   "cell_type": "code",
   "execution_count": null,
   "metadata": {},
   "outputs": [],
   "source": []
  },
  {
   "cell_type": "code",
   "execution_count": 26,
   "metadata": {},
   "outputs": [
    {
     "data": {
      "image/png": "[encoded data removed]",
      "text/plain": [
       "<Figure size 432x288 with 1 Axes>"
      ]
     },
     "metadata": {
      "needs_background": "light"
     },
     "output_type": "display_data"
    }
   ],
   "source": [
    "def example_plot(ax, fontsize=12):\n",
    "    ax.plot([1, 2])\n",
    "\n",
    "    ax.locator_params(nbins=3)\n",
    "    ax.set_xlabel('x-label', fontsize=fontsize)\n",
    "    ax.set_ylabel('y-label', fontsize=fontsize)\n",
    "    ax.set_title('Title', fontsize=fontsize)\n",
    "\n",
    "plt.close('all')\n",
    "fig, ax = plt.subplots()\n",
    "example_plot(ax, fontsize=24)\n",
    "plt.savefig(\"test.png\")"
   ]
  },
  {
   "cell_type": "code",
   "execution_count": null,
   "metadata": {},
   "outputs": [],
   "source": []
  }
 ],
 "metadata": {
  "colab": {
   "collapsed_sections": [],
   "name": "Sequential_ML_Subgenre_Model.ipynb",
   "provenance": []
  },
  "kernelspec": {
   "display_name": "AdvPythonEnv",
   "language": "python",
   "name": "advpythonenv"
  },
  "language_info": {
   "codemirror_mode": {
    "name": "ipython",
    "version": 3
   },
   "file_extension": ".py",
   "mimetype": "text/x-python",
   "name": "python",
   "nbconvert_exporter": "python",
   "pygments_lexer": "ipython3",
   "version": "3.6.10"
  }
 },
 "nbformat": 4,
 "nbformat_minor": 1
}
