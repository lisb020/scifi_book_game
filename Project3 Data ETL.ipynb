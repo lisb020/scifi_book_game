{
 "cells": [
  {
   "cell_type": "markdown",
   "metadata": {},
   "source": [
    "# Scifi Book Data Collection"
   ]
  },
  {
   "cell_type": "code",
   "execution_count": 1,
   "metadata": {},
   "outputs": [],
   "source": [
    "import os\n",
    "import requests\n",
    "import json\n",
    "import pandas as pd\n",
    "import numpy as np\n",
    "import pprint as pp"
   ]
  },
  {
   "cell_type": "code",
   "execution_count": 2,
   "metadata": {},
   "outputs": [],
   "source": [
    "# # Import SQLAlchemy `automap` and other dependencies here\n",
    "# import sqlalchemy\n",
    "# from sqlalchemy.ext.automap import automap_base\n",
    "# from sqlalchemy.orm import Session\n",
    "# from sqlalchemy import create_engine, inspect, func, MetaData,Table, Column, Integer, String\n",
    "# from sqlalchemy.ext.declarative import declarative_base\n",
    "# Base = declarative_base()"
   ]
  },
  {
   "cell_type": "markdown",
   "metadata": {},
   "source": [
    "Get all the files and combine"
   ]
  },
  {
   "cell_type": "code",
   "execution_count": 3,
   "metadata": {
    "scrolled": true
   },
   "outputs": [
    {
     "data": {
      "text/plain": [
       "['sf_aliens.csv',\n",
       " 'sf_alternate_history.csv',\n",
       " 'sf_alternate_universe.csv',\n",
       " 'sf_apocalyptic.csv',\n",
       " 'sf_cyberpunk.csv',\n",
       " 'sf_dystopia.csv',\n",
       " 'sf_hard.csv',\n",
       " 'sf_military.csv',\n",
       " 'sf_robots.csv',\n",
       " 'sf_space_opera.csv',\n",
       " 'sf_steampunk.csv',\n",
       " 'sf_time_travel.csv']"
      ]
     },
     "execution_count": 3,
     "metadata": {},
     "output_type": "execute_result"
    }
   ],
   "source": [
    "# get a list of the data files stored in a directory\n",
    "from os import listdir\n",
    "from os.path import isfile, join\n",
    "\n",
    "mypath = (\"./Resources\")\n",
    "onlyfiles = [f for f in listdir(mypath) if isfile(join(mypath, f))]\n",
    "onlyfiles"
   ]
  },
  {
   "cell_type": "code",
   "execution_count": 4,
   "metadata": {},
   "outputs": [],
   "source": [
    "names_df = pd.read_csv(\"names_data.csv\")"
   ]
  },
  {
   "cell_type": "code",
   "execution_count": 5,
   "metadata": {},
   "outputs": [
    {
     "data": {
      "text/html": [
       "<div>\n",
       "<style scoped>\n",
       "    .dataframe tbody tr th:only-of-type {\n",
       "        vertical-align: middle;\n",
       "    }\n",
       "\n",
       "    .dataframe tbody tr th {\n",
       "        vertical-align: top;\n",
       "    }\n",
       "\n",
       "    .dataframe thead th {\n",
       "        text-align: right;\n",
       "    }\n",
       "</style>\n",
       "<table border=\"1\" class=\"dataframe\">\n",
       "  <thead>\n",
       "    <tr style=\"text-align: right;\">\n",
       "      <th></th>\n",
       "      <th>name</th>\n",
       "      <th>gender</th>\n",
       "    </tr>\n",
       "  </thead>\n",
       "  <tbody>\n",
       "    <tr>\n",
       "      <th>0</th>\n",
       "      <td>Linda</td>\n",
       "      <td>F</td>\n",
       "    </tr>\n",
       "    <tr>\n",
       "      <th>1</th>\n",
       "      <td>Mary</td>\n",
       "      <td>F</td>\n",
       "    </tr>\n",
       "    <tr>\n",
       "      <th>2</th>\n",
       "      <td>Patricia</td>\n",
       "      <td>F</td>\n",
       "    </tr>\n",
       "    <tr>\n",
       "      <th>3</th>\n",
       "      <td>Barbara</td>\n",
       "      <td>F</td>\n",
       "    </tr>\n",
       "    <tr>\n",
       "      <th>4</th>\n",
       "      <td>Susan</td>\n",
       "      <td>F</td>\n",
       "    </tr>\n",
       "  </tbody>\n",
       "</table>\n",
       "</div>"
      ],
      "text/plain": [
       "       name gender\n",
       "0     Linda      F\n",
       "1      Mary      F\n",
       "2  Patricia      F\n",
       "3   Barbara      F\n",
       "4     Susan      F"
      ]
     },
     "execution_count": 5,
     "metadata": {},
     "output_type": "execute_result"
    }
   ],
   "source": [
    "names_df.head()"
   ]
  },
  {
   "cell_type": "code",
   "execution_count": 6,
   "metadata": {},
   "outputs": [],
   "source": [
    "book_df = pd.read_csv(mypath+'/'+onlyfiles[0])"
   ]
  },
  {
   "cell_type": "code",
   "execution_count": 7,
   "metadata": {},
   "outputs": [
    {
     "data": {
      "text/plain": [
       "['Book_Title',\n",
       " 'Original_Book_Title',\n",
       " 'Author_Name',\n",
       " 'Edition_Language',\n",
       " 'Rating_score',\n",
       " 'Rating_votes',\n",
       " 'Review_number',\n",
       " 'Book_Description',\n",
       " 'Year_published',\n",
       " 'Genres',\n",
       " 'url']"
      ]
     },
     "execution_count": 7,
     "metadata": {},
     "output_type": "execute_result"
    }
   ],
   "source": [
    "list(book_df.columns.values.tolist())"
   ]
  },
  {
   "cell_type": "code",
   "execution_count": 8,
   "metadata": {},
   "outputs": [
    {
     "data": {
      "text/html": [
       "<div>\n",
       "<style scoped>\n",
       "    .dataframe tbody tr th:only-of-type {\n",
       "        vertical-align: middle;\n",
       "    }\n",
       "\n",
       "    .dataframe tbody tr th {\n",
       "        vertical-align: top;\n",
       "    }\n",
       "\n",
       "    .dataframe thead th {\n",
       "        text-align: right;\n",
       "    }\n",
       "</style>\n",
       "<table border=\"1\" class=\"dataframe\">\n",
       "  <thead>\n",
       "    <tr style=\"text-align: right;\">\n",
       "      <th></th>\n",
       "      <th>Book_Title</th>\n",
       "      <th>Original_Book_Title</th>\n",
       "      <th>Author_Name</th>\n",
       "      <th>Edition_Language</th>\n",
       "      <th>Rating_score</th>\n",
       "      <th>Rating_votes</th>\n",
       "      <th>Review_number</th>\n",
       "      <th>Book_Description</th>\n",
       "      <th>Year_published</th>\n",
       "      <th>Genres</th>\n",
       "      <th>url</th>\n",
       "    </tr>\n",
       "  </thead>\n",
       "  <tbody>\n",
       "  </tbody>\n",
       "</table>\n",
       "</div>"
      ],
      "text/plain": [
       "Empty DataFrame\n",
       "Columns: [Book_Title, Original_Book_Title, Author_Name, Edition_Language, Rating_score, Rating_votes, Review_number, Book_Description, Year_published, Genres, url]\n",
       "Index: []"
      ]
     },
     "execution_count": 8,
     "metadata": {},
     "output_type": "execute_result"
    }
   ],
   "source": [
    "allBooks = pd.DataFrame(columns = list(book_df.columns.values.tolist()))\n",
    "allBooks.head()"
   ]
  },
  {
   "cell_type": "code",
   "execution_count": 9,
   "metadata": {
    "scrolled": true
   },
   "outputs": [
    {
     "name": "stdout",
     "output_type": "stream",
     "text": [
      "sf_aliens\n",
      "sf_alternate_history\n",
      "sf_alternate_universe\n",
      "sf_apocalyptic\n",
      "sf_cyberpunk\n",
      "sf_dystopia\n",
      "sf_hard\n",
      "sf_military\n",
      "sf_robots\n",
      "sf_space_opera\n",
      "sf_steampunk\n",
      "sf_time_travel\n"
     ]
    }
   ],
   "source": [
    "inputFileDir = \"./Resources/\"\n",
    "spec_chars1 = [\"!\",'\"',\"#\",\"%\",\"&\",\"(\",\")\",\n",
    "              \"*\",\"+\",\",\",\"-\",\".\",\"/\",\":\",\";\",\"<\",\n",
    "              \"=\",\">\",\"?\",\"@\",\"[\",\"\\\\\",\"]\",\"^\",\"_\",\n",
    "              \"`\",\"{\",\"|\",\"}\",\"~\",\"–\"]\n",
    "spec_chars2 = [\"'\",\"\\n\",\"\\t\"]\n",
    "for file in (onlyfiles):\n",
    "    currFilePath = inputFileDir + file\n",
    "    subGenre = file.split('.')[0]\n",
    "    print(subGenre)\n",
    "    book_df = pd.read_csv(currFilePath)\n",
    "    #append column of subgenre\n",
    "    book_df['subgenre'] = subGenre   \n",
    "    #book_df['Book_Description'] = book_df['Book_Description'].str.replace(',', ' ')\n",
    "    for char in spec_chars1:\n",
    "        book_df['Book_Description']  = book_df['Book_Description'].str.replace(char, ' ')\n",
    "    for char in spec_chars2:\n",
    "        book_df['Book_Description']  = book_df['Book_Description'].str.replace(char, '')      \n",
    "    allBooks = allBooks.append(book_df)"
   ]
  },
  {
   "cell_type": "code",
   "execution_count": 10,
   "metadata": {},
   "outputs": [
    {
     "data": {
      "text/plain": [
       "English    14026\n",
       "Name: Edition_Language, dtype: int64"
      ]
     },
     "execution_count": 10,
     "metadata": {},
     "output_type": "execute_result"
    }
   ],
   "source": [
    "allBooks.count()\n",
    "allBooks = allBooks[allBooks['Edition_Language'] == \"English\"]\n",
    "allBooks['Edition_Language'].value_counts()"
   ]
  },
  {
   "cell_type": "code",
   "execution_count": 11,
   "metadata": {},
   "outputs": [
    {
     "data": {
      "text/plain": [
       "Warrior                                      6\n",
       "Exodus                                       5\n",
       "Claimed                                      5\n",
       "Aftermath                                    5\n",
       "Destroyer                                    5\n",
       "                                            ..\n",
       "Crossing in Time                             1\n",
       "Q                                            1\n",
       "This Savage Song                             1\n",
       "Distraction                                  1\n",
       "The Collected Stories of Arthur C. Clarke    1\n",
       "Name: Book_Title, Length: 9899, dtype: int64"
      ]
     },
     "execution_count": 11,
     "metadata": {},
     "output_type": "execute_result"
    }
   ],
   "source": [
    "allBooks = allBooks.drop_duplicates(subset=['Book_Title', 'Author_Name'], keep='first')\n",
    "allBooks['Book_Title'].value_counts()\n"
   ]
  },
  {
   "cell_type": "code",
   "execution_count": 12,
   "metadata": {},
   "outputs": [
    {
     "data": {
      "text/html": [
       "<div>\n",
       "<style scoped>\n",
       "    .dataframe tbody tr th:only-of-type {\n",
       "        vertical-align: middle;\n",
       "    }\n",
       "\n",
       "    .dataframe tbody tr th {\n",
       "        vertical-align: top;\n",
       "    }\n",
       "\n",
       "    .dataframe thead th {\n",
       "        text-align: right;\n",
       "    }\n",
       "</style>\n",
       "<table border=\"1\" class=\"dataframe\">\n",
       "  <thead>\n",
       "    <tr style=\"text-align: right;\">\n",
       "      <th></th>\n",
       "      <th>Book_Title</th>\n",
       "      <th>Original_Book_Title</th>\n",
       "      <th>Author_Name</th>\n",
       "      <th>Edition_Language</th>\n",
       "      <th>Rating_score</th>\n",
       "      <th>Rating_votes</th>\n",
       "      <th>Review_number</th>\n",
       "      <th>Book_Description</th>\n",
       "      <th>Year_published</th>\n",
       "      <th>Genres</th>\n",
       "      <th>url</th>\n",
       "      <th>subgenre</th>\n",
       "    </tr>\n",
       "  </thead>\n",
       "  <tbody>\n",
       "    <tr>\n",
       "      <th>0</th>\n",
       "      <td>Obsidian</td>\n",
       "      <td>Obsidian</td>\n",
       "      <td>Jennifer L. Armentrout</td>\n",
       "      <td>English</td>\n",
       "      <td>4.17</td>\n",
       "      <td>236780</td>\n",
       "      <td>18161</td>\n",
       "      <td>Starting over sucks When we moved to West Virg...</td>\n",
       "      <td>2011</td>\n",
       "      <td>{'Young Adult': 3439, 'Fantasy (Paranormal) ':...</td>\n",
       "      <td>https://www.goodreads.com/book/show/12578077-o...</td>\n",
       "      <td>sf_aliens</td>\n",
       "    </tr>\n",
       "    <tr>\n",
       "      <th>1</th>\n",
       "      <td>Onyx</td>\n",
       "      <td>Onyx</td>\n",
       "      <td>Jennifer L. Armentrout</td>\n",
       "      <td>English</td>\n",
       "      <td>4.27</td>\n",
       "      <td>153429</td>\n",
       "      <td>10497</td>\n",
       "      <td>BEING CONNECTED TO DAEMON BLACK SUCKS… Thanks ...</td>\n",
       "      <td>2012</td>\n",
       "      <td>{'Young Adult': 2271, 'Fantasy (Paranormal) ':...</td>\n",
       "      <td>https://www.goodreads.com/book/show/13047090-onyx</td>\n",
       "      <td>sf_aliens</td>\n",
       "    </tr>\n",
       "    <tr>\n",
       "      <th>2</th>\n",
       "      <td>The 5th Wave</td>\n",
       "      <td>The 5th Wave</td>\n",
       "      <td>Rick Yancey</td>\n",
       "      <td>English</td>\n",
       "      <td>4.03</td>\n",
       "      <td>400600</td>\n",
       "      <td>29990</td>\n",
       "      <td>After the 1st wave  only darkness remains  Aft...</td>\n",
       "      <td>2013</td>\n",
       "      <td>{'Young Adult': 5436, 'Science Fiction': 3327,...</td>\n",
       "      <td>https://www.goodreads.com/book/show/16101128-t...</td>\n",
       "      <td>sf_aliens</td>\n",
       "    </tr>\n",
       "    <tr>\n",
       "      <th>3</th>\n",
       "      <td>The Host</td>\n",
       "      <td>The Host</td>\n",
       "      <td>Stephenie Meyer</td>\n",
       "      <td>English</td>\n",
       "      <td>3.84</td>\n",
       "      <td>915026</td>\n",
       "      <td>41673</td>\n",
       "      <td>Melanie Stryder refuses to fade away  The eart...</td>\n",
       "      <td>2008</td>\n",
       "      <td>{'Young Adult': 4529, 'Science Fiction': 4285,...</td>\n",
       "      <td>https://www.goodreads.com/book/show/1656001.Th...</td>\n",
       "      <td>sf_aliens</td>\n",
       "    </tr>\n",
       "    <tr>\n",
       "      <th>5</th>\n",
       "      <td>Origin</td>\n",
       "      <td>Origin</td>\n",
       "      <td>Jennifer L. Armentrout</td>\n",
       "      <td>English</td>\n",
       "      <td>4.35</td>\n",
       "      <td>93979</td>\n",
       "      <td>7660</td>\n",
       "      <td>Daemon will do anything to get Katy back After...</td>\n",
       "      <td>2013</td>\n",
       "      <td>{'Young Adult': 1467, 'Fantasy (Paranormal) ':...</td>\n",
       "      <td>https://www.goodreads.com/book/show/13644052-o...</td>\n",
       "      <td>sf_aliens</td>\n",
       "    </tr>\n",
       "  </tbody>\n",
       "</table>\n",
       "</div>"
      ],
      "text/plain": [
       "     Book_Title Original_Book_Title             Author_Name Edition_Language  \\\n",
       "0      Obsidian            Obsidian  Jennifer L. Armentrout          English   \n",
       "1          Onyx                Onyx  Jennifer L. Armentrout          English   \n",
       "2  The 5th Wave        The 5th Wave             Rick Yancey          English   \n",
       "3      The Host            The Host         Stephenie Meyer          English   \n",
       "5        Origin              Origin  Jennifer L. Armentrout          English   \n",
       "\n",
       "   Rating_score Rating_votes Review_number  \\\n",
       "0          4.17       236780         18161   \n",
       "1          4.27       153429         10497   \n",
       "2          4.03       400600         29990   \n",
       "3          3.84       915026         41673   \n",
       "5          4.35        93979          7660   \n",
       "\n",
       "                                    Book_Description Year_published  \\\n",
       "0  Starting over sucks When we moved to West Virg...           2011   \n",
       "1  BEING CONNECTED TO DAEMON BLACK SUCKS… Thanks ...           2012   \n",
       "2  After the 1st wave  only darkness remains  Aft...           2013   \n",
       "3  Melanie Stryder refuses to fade away  The eart...           2008   \n",
       "5  Daemon will do anything to get Katy back After...           2013   \n",
       "\n",
       "                                              Genres  \\\n",
       "0  {'Young Adult': 3439, 'Fantasy (Paranormal) ':...   \n",
       "1  {'Young Adult': 2271, 'Fantasy (Paranormal) ':...   \n",
       "2  {'Young Adult': 5436, 'Science Fiction': 3327,...   \n",
       "3  {'Young Adult': 4529, 'Science Fiction': 4285,...   \n",
       "5  {'Young Adult': 1467, 'Fantasy (Paranormal) ':...   \n",
       "\n",
       "                                                 url   subgenre  \n",
       "0  https://www.goodreads.com/book/show/12578077-o...  sf_aliens  \n",
       "1  https://www.goodreads.com/book/show/13047090-onyx  sf_aliens  \n",
       "2  https://www.goodreads.com/book/show/16101128-t...  sf_aliens  \n",
       "3  https://www.goodreads.com/book/show/1656001.Th...  sf_aliens  \n",
       "5  https://www.goodreads.com/book/show/13644052-o...  sf_aliens  "
      ]
     },
     "execution_count": 12,
     "metadata": {},
     "output_type": "execute_result"
    }
   ],
   "source": [
    "allBooks.head()\n"
   ]
  },
  {
   "cell_type": "code",
   "execution_count": 13,
   "metadata": {},
   "outputs": [],
   "source": [
    "BookData = allBooks[['Book_Title', 'Rating_score', 'Rating_votes','Book_Description','subgenre']].copy()"
   ]
  },
  {
   "cell_type": "code",
   "execution_count": 14,
   "metadata": {},
   "outputs": [
    {
     "data": {
      "text/plain": [
       "0    Starting over sucks When we moved to West Virg...\n",
       "1    BEING CONNECTED TO DAEMON BLACK SUCKS… Thanks ...\n",
       "2    After the 1st wave  only darkness remains  Aft...\n",
       "3    Melanie Stryder refuses to fade away  The eart...\n",
       "5    Daemon will do anything to get Katy back After...\n",
       "Name: Book_Description, dtype: object"
      ]
     },
     "execution_count": 14,
     "metadata": {},
     "output_type": "execute_result"
    }
   ],
   "source": [
    "BookData['Book_Description'].head()"
   ]
  },
  {
   "cell_type": "code",
   "execution_count": 15,
   "metadata": {},
   "outputs": [],
   "source": [
    "BookData.to_csv('BookList.csv', header='column_names')"
   ]
  },
  {
   "cell_type": "code",
   "execution_count": null,
   "metadata": {},
   "outputs": [],
   "source": []
  },
  {
   "cell_type": "code",
   "execution_count": null,
   "metadata": {},
   "outputs": [],
   "source": []
  }
 ],
 "metadata": {
  "kernelspec": {
   "display_name": "Python 3",
   "language": "python",
   "name": "python3"
  },
  "language_info": {
   "codemirror_mode": {
    "name": "ipython",
    "version": 3
   },
   "file_extension": ".py",
   "mimetype": "text/x-python",
   "name": "python",
   "nbconvert_exporter": "python",
   "pygments_lexer": "ipython3",
   "version": "3.8.3"
  },
  "varInspector": {
   "cols": {
    "lenName": 16,
    "lenType": 16,
    "lenVar": 40
   },
   "kernels_config": {
    "python": {
     "delete_cmd_postfix": "",
     "delete_cmd_prefix": "del ",
     "library": "var_list.py",
     "varRefreshCmd": "print(var_dic_list())"
    },
    "r": {
     "delete_cmd_postfix": ") ",
     "delete_cmd_prefix": "rm(",
     "library": "var_list.r",
     "varRefreshCmd": "cat(var_dic_list()) "
    }
   },
   "types_to_exclude": [
    "module",
    "function",
    "builtin_function_or_method",
    "instance",
    "_Feature"
   ],
   "window_display": false
  }
 },
 "nbformat": 4,
 "nbformat_minor": 2
}
