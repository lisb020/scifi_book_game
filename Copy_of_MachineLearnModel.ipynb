{
  "nbformat": 4,
  "nbformat_minor": 0,
  "metadata": {
    "colab": {
      "name": "Copy of MachineLearnModel.ipynb",
      "provenance": [],
      "collapsed_sections": []
    },
    "kernelspec": {
      "name": "python3",
      "display_name": "Python 3"
    },
    "language_info": {
      "name": "python"
    }
  },
  "cells": [
    {
      "cell_type": "code",
      "metadata": {
        "colab": {
          "base_uri": "https://localhost:8080/"
        },
        "id": "9kg0H-8T6r-G",
        "outputId": "b7b2c845-093f-4f6c-9200-e03426316754"
      },
      "source": [
        "import os\n",
        "# Find the latest version of spark 3.0  from http://www-us.apache.org/dist/spark/ and enter as the spark version\n",
        "# For example:\n",
        "# spark_version = 'spark-3.0.1'\n",
        "spark_version = 'spark-3.1.1'\n",
        "os.environ['SPARK_VERSION']=spark_version\n",
        "\n",
        "# Install Spark and Java\n",
        "!apt-get update\n",
        "!apt-get install openjdk-11-jdk-headless -qq > /dev/null\n",
        "!wget -q http://www-us.apache.org/dist/spark/$SPARK_VERSION/$SPARK_VERSION-bin-hadoop2.7.tgz\n",
        "!tar xf $SPARK_VERSION-bin-hadoop2.7.tgz\n",
        "!pip install -q findspark\n",
        "\n",
        "# Set Environment Variables\n",
        "os.environ[\"JAVA_HOME\"] = \"/usr/lib/jvm/java-11-openjdk-amd64\"\n",
        "os.environ[\"SPARK_HOME\"] = f\"/content/{spark_version}-bin-hadoop2.7\"\n",
        "\n",
        "# Start a SparkSession\n",
        "import findspark\n",
        "findspark.init()"
      ],
      "execution_count": 1,
      "outputs": [
        {
          "output_type": "stream",
          "text": [
            "\r0% [Working]\r            \rHit:1 http://security.ubuntu.com/ubuntu bionic-security InRelease\n",
            "\r0% [Waiting for headers] [Connected to cloud.r-project.org (13.227.223.59)] [Co\r                                                                               \rHit:2 http://archive.ubuntu.com/ubuntu bionic InRelease\n",
            "\r                                                                               \rHit:3 http://archive.ubuntu.com/ubuntu bionic-updates InRelease\n",
            "\r                                                                               \rHit:4 http://ppa.launchpad.net/c2d4u.team/c2d4u4.0+/ubuntu bionic InRelease\n",
            "\r0% [Waiting for headers] [Connected to cloud.r-project.org (13.227.223.59)] [Co\r0% [1 InRelease gpgv 88.7 kB] [Waiting for headers] [Connected to cloud.r-proje\r                                                                               \rHit:5 http://archive.ubuntu.com/ubuntu bionic-backports InRelease\n",
            "\r0% [1 InRelease gpgv 88.7 kB] [Connected to cloud.r-project.org (13.227.223.59)\r                                                                               \rHit:6 https://cloud.r-project.org/bin/linux/ubuntu bionic-cran40/ InRelease\n",
            "\r                                                                               \r0% [1 InRelease gpgv 88.7 kB] [Waiting for headers] [Waiting for headers]\r                                                                         \rHit:7 http://ppa.launchpad.net/cran/libgit2/ubuntu bionic InRelease\n",
            "\r0% [1 InRelease gpgv 88.7 kB] [Connecting to ppa.launchpad.net (91.189.95.85)] \r                                                                               \rHit:8 http://ppa.launchpad.net/deadsnakes/ppa/ubuntu bionic InRelease\n",
            "Hit:9 http://ppa.launchpad.net/graphics-drivers/ppa/ubuntu bionic InRelease\n",
            "Ign:10 https://developer.download.nvidia.com/compute/cuda/repos/ubuntu1804/x86_64  InRelease\n",
            "Ign:11 https://developer.download.nvidia.com/compute/machine-learning/repos/ubuntu1804/x86_64  InRelease\n",
            "Hit:12 https://developer.download.nvidia.com/compute/cuda/repos/ubuntu1804/x86_64  Release\n",
            "Hit:13 https://developer.download.nvidia.com/compute/machine-learning/repos/ubuntu1804/x86_64  Release\n",
            "Reading package lists... Done\n"
          ],
          "name": "stdout"
        }
      ]
    },
    {
      "cell_type": "code",
      "metadata": {
        "id": "1xsqOPP99TJ3"
      },
      "source": [
        "from pyspark.sql import SparkSession\n",
        "spark = SparkSession.builder.appName(\"NaiveBayes\").getOrCreate()"
      ],
      "execution_count": 2,
      "outputs": []
    },
    {
      "cell_type": "code",
      "metadata": {
        "colab": {
          "base_uri": "https://localhost:8080/",
          "height": 202
        },
        "id": "dQMvrpeBp5D1",
        "outputId": "7820a7a9-0de6-494d-97b2-865b2699b01a"
      },
      "source": [
        "import pandas as pd\n",
        "url = 'https://raw.githubusercontent.com/lisb020/scifi_book_game/main/BookList.csv'\n",
        "pd_df = pd.read_csv(url)\n",
        "\n",
        "pd_df.head()"
      ],
      "execution_count": 3,
      "outputs": [
        {
          "output_type": "execute_result",
          "data": {
            "text/html": [
              "<div>\n",
              "<style scoped>\n",
              "    .dataframe tbody tr th:only-of-type {\n",
              "        vertical-align: middle;\n",
              "    }\n",
              "\n",
              "    .dataframe tbody tr th {\n",
              "        vertical-align: top;\n",
              "    }\n",
              "\n",
              "    .dataframe thead th {\n",
              "        text-align: right;\n",
              "    }\n",
              "</style>\n",
              "<table border=\"1\" class=\"dataframe\">\n",
              "  <thead>\n",
              "    <tr style=\"text-align: right;\">\n",
              "      <th></th>\n",
              "      <th>Unnamed: 0</th>\n",
              "      <th>Book_Title</th>\n",
              "      <th>Rating_score</th>\n",
              "      <th>Rating_votes</th>\n",
              "      <th>Book_Description</th>\n",
              "      <th>subgenre</th>\n",
              "    </tr>\n",
              "  </thead>\n",
              "  <tbody>\n",
              "    <tr>\n",
              "      <th>0</th>\n",
              "      <td>0</td>\n",
              "      <td>Obsidian</td>\n",
              "      <td>4.17</td>\n",
              "      <td>236780</td>\n",
              "      <td>Starting over sucks When we moved to West Virg...</td>\n",
              "      <td>sf_aliens</td>\n",
              "    </tr>\n",
              "    <tr>\n",
              "      <th>1</th>\n",
              "      <td>1</td>\n",
              "      <td>Onyx</td>\n",
              "      <td>4.27</td>\n",
              "      <td>153429</td>\n",
              "      <td>BEING CONNECTED TO DAEMON BLACK SUCKS… Thanks ...</td>\n",
              "      <td>sf_aliens</td>\n",
              "    </tr>\n",
              "    <tr>\n",
              "      <th>2</th>\n",
              "      <td>2</td>\n",
              "      <td>The 5th Wave</td>\n",
              "      <td>4.03</td>\n",
              "      <td>400600</td>\n",
              "      <td>After the 1st wave  only darkness remains  Aft...</td>\n",
              "      <td>sf_aliens</td>\n",
              "    </tr>\n",
              "    <tr>\n",
              "      <th>3</th>\n",
              "      <td>3</td>\n",
              "      <td>The Host</td>\n",
              "      <td>3.84</td>\n",
              "      <td>915026</td>\n",
              "      <td>Melanie Stryder refuses to fade away  The eart...</td>\n",
              "      <td>sf_aliens</td>\n",
              "    </tr>\n",
              "    <tr>\n",
              "      <th>4</th>\n",
              "      <td>5</td>\n",
              "      <td>Origin</td>\n",
              "      <td>4.35</td>\n",
              "      <td>93979</td>\n",
              "      <td>Daemon will do anything to get Katy back After...</td>\n",
              "      <td>sf_aliens</td>\n",
              "    </tr>\n",
              "  </tbody>\n",
              "</table>\n",
              "</div>"
            ],
            "text/plain": [
              "   Unnamed: 0  ...   subgenre\n",
              "0           0  ...  sf_aliens\n",
              "1           1  ...  sf_aliens\n",
              "2           2  ...  sf_aliens\n",
              "3           3  ...  sf_aliens\n",
              "4           5  ...  sf_aliens\n",
              "\n",
              "[5 rows x 6 columns]"
            ]
          },
          "metadata": {
            "tags": []
          },
          "execution_count": 3
        }
      ]
    },
    {
      "cell_type": "code",
      "metadata": {
        "colab": {
          "base_uri": "https://localhost:8080/",
          "height": 202
        },
        "id": "2GR935mbFGYj",
        "outputId": "71572bb0-aa9c-4fcb-e885-f8fb2fc37f40"
      },
      "source": [
        "pd_df.drop(columns=\"Unnamed: 0\", inplace=True)\n",
        "pd_df.head()"
      ],
      "execution_count": 4,
      "outputs": [
        {
          "output_type": "execute_result",
          "data": {
            "text/html": [
              "<div>\n",
              "<style scoped>\n",
              "    .dataframe tbody tr th:only-of-type {\n",
              "        vertical-align: middle;\n",
              "    }\n",
              "\n",
              "    .dataframe tbody tr th {\n",
              "        vertical-align: top;\n",
              "    }\n",
              "\n",
              "    .dataframe thead th {\n",
              "        text-align: right;\n",
              "    }\n",
              "</style>\n",
              "<table border=\"1\" class=\"dataframe\">\n",
              "  <thead>\n",
              "    <tr style=\"text-align: right;\">\n",
              "      <th></th>\n",
              "      <th>Book_Title</th>\n",
              "      <th>Rating_score</th>\n",
              "      <th>Rating_votes</th>\n",
              "      <th>Book_Description</th>\n",
              "      <th>subgenre</th>\n",
              "    </tr>\n",
              "  </thead>\n",
              "  <tbody>\n",
              "    <tr>\n",
              "      <th>0</th>\n",
              "      <td>Obsidian</td>\n",
              "      <td>4.17</td>\n",
              "      <td>236780</td>\n",
              "      <td>Starting over sucks When we moved to West Virg...</td>\n",
              "      <td>sf_aliens</td>\n",
              "    </tr>\n",
              "    <tr>\n",
              "      <th>1</th>\n",
              "      <td>Onyx</td>\n",
              "      <td>4.27</td>\n",
              "      <td>153429</td>\n",
              "      <td>BEING CONNECTED TO DAEMON BLACK SUCKS… Thanks ...</td>\n",
              "      <td>sf_aliens</td>\n",
              "    </tr>\n",
              "    <tr>\n",
              "      <th>2</th>\n",
              "      <td>The 5th Wave</td>\n",
              "      <td>4.03</td>\n",
              "      <td>400600</td>\n",
              "      <td>After the 1st wave  only darkness remains  Aft...</td>\n",
              "      <td>sf_aliens</td>\n",
              "    </tr>\n",
              "    <tr>\n",
              "      <th>3</th>\n",
              "      <td>The Host</td>\n",
              "      <td>3.84</td>\n",
              "      <td>915026</td>\n",
              "      <td>Melanie Stryder refuses to fade away  The eart...</td>\n",
              "      <td>sf_aliens</td>\n",
              "    </tr>\n",
              "    <tr>\n",
              "      <th>4</th>\n",
              "      <td>Origin</td>\n",
              "      <td>4.35</td>\n",
              "      <td>93979</td>\n",
              "      <td>Daemon will do anything to get Katy back After...</td>\n",
              "      <td>sf_aliens</td>\n",
              "    </tr>\n",
              "  </tbody>\n",
              "</table>\n",
              "</div>"
            ],
            "text/plain": [
              "     Book_Title  ...   subgenre\n",
              "0      Obsidian  ...  sf_aliens\n",
              "1          Onyx  ...  sf_aliens\n",
              "2  The 5th Wave  ...  sf_aliens\n",
              "3      The Host  ...  sf_aliens\n",
              "4        Origin  ...  sf_aliens\n",
              "\n",
              "[5 rows x 5 columns]"
            ]
          },
          "metadata": {
            "tags": []
          },
          "execution_count": 4
        }
      ]
    },
    {
      "cell_type": "code",
      "metadata": {
        "id": "j2WCfAlUPih2"
      },
      "source": [
        "# def group_rating(row):\n",
        "#   return(str(row['Rating_score']).split('.')[0])\n",
        "\n",
        "# pd_df['rating'] = pd_df.apply (lambda row: group_rating(row), axis=1) "
      ],
      "execution_count": 5,
      "outputs": []
    },
    {
      "cell_type": "code",
      "metadata": {
        "id": "-BkGqD8RMe6O"
      },
      "source": [
        "import math\n",
        "def round_down(row):\n",
        "    return str(math.floor(row['Rating_score']))\n",
        "\n",
        "\n",
        "pd_df['rating'] = pd_df.apply (lambda row: round_down(row), axis=1) "
      ],
      "execution_count": 7,
      "outputs": []
    },
    {
      "cell_type": "code",
      "metadata": {
        "id": "RPvQOXcqnxPP"
      },
      "source": [
        "def remove_nums(row):\n",
        "  output = ''.join(c for c in str(row['Book_Description']) if not c.isdigit())\n",
        "  return(output)\n",
        "\n",
        "pd_df['Book_Description'] = pd_df.apply (lambda row: remove_nums(row), axis=1) "
      ],
      "execution_count": 8,
      "outputs": []
    },
    {
      "cell_type": "code",
      "metadata": {
        "id": "TAeGZCXL6txJ"
      },
      "source": [
        "def remove_multi_spaces(row):\n",
        "  single_spaces = \" \".join(str(row['Book_Description']).split())\n",
        "  return(single_spaces)\n",
        "\n",
        "pd_df['Book_Description'] = pd_df.apply (lambda row: remove_multi_spaces(row), axis=1)   "
      ],
      "execution_count": 9,
      "outputs": []
    },
    {
      "cell_type": "code",
      "metadata": {
        "id": "FQlz_Skg6x7e"
      },
      "source": [
        "def remove_unicode(row):\n",
        "  string_encode = str(row['Book_Description']).encode(\"ascii\", \"ignore\")\n",
        "  return(string_encode.decode())\n",
        "\n",
        "pd_df['Book_Description'] = pd_df.apply (lambda row: remove_unicode(row), axis=1) "
      ],
      "execution_count": 10,
      "outputs": []
    },
    {
      "cell_type": "code",
      "metadata": {
        "colab": {
          "base_uri": "https://localhost:8080/"
        },
        "id": "CkP2PTwdL02j",
        "outputId": "5b7e6f0e-5916-4c92-b6b5-5b61a74b9501"
      },
      "source": [
        "pd_df['subgenre'].unique()"
      ],
      "execution_count": 11,
      "outputs": [
        {
          "output_type": "execute_result",
          "data": {
            "text/plain": [
              "array(['sf_aliens', 'sf_alternate_history', 'sf_alternate_universe',\n",
              "       'sf_apocalyptic', 'sf_cyberpunk', 'sf_dystopia', 'sf_hard',\n",
              "       'sf_military', 'sf_robots', 'sf_space_opera', 'sf_steampunk',\n",
              "       'sf_time_travel'], dtype=object)"
            ]
          },
          "metadata": {
            "tags": []
          },
          "execution_count": 11
        }
      ]
    },
    {
      "cell_type": "code",
      "metadata": {
        "id": "CrtEEFQlER9a"
      },
      "source": [
        "from pyspark.sql.types import *\n",
        "mySchema = StructType([ StructField(\"Book_Title\", StringType(), True)\\\n",
        "                       ,StructField(\"Rating_score\", FloatType(), True)\\\n",
        "                       ,StructField(\"Rating_votes\", LongType(), True)\\\n",
        "                       ,StructField(\"Book_Description\", StringType(), True)\\\n",
        "                       ,StructField(\"subgenre\", StringType(), True)\\\n",
        "                       ,StructField(\"rating\", StringType(), True)])"
      ],
      "execution_count": 12,
      "outputs": []
    },
    {
      "cell_type": "code",
      "metadata": {
        "colab": {
          "base_uri": "https://localhost:8080/"
        },
        "id": "4j1g6118DLpy",
        "outputId": "87b76b63-4714-4285-ac3b-a139e7ec8682"
      },
      "source": [
        "spark_df = spark.createDataFrame(pd_df, schema=mySchema)\n",
        "spark_df.show(50)"
      ],
      "execution_count": 13,
      "outputs": [
        {
          "output_type": "stream",
          "text": [
            "+--------------------+------------+------------+--------------------+---------+------+\n",
            "|          Book_Title|Rating_score|Rating_votes|    Book_Description| subgenre|rating|\n",
            "+--------------------+------------+------------+--------------------+---------+------+\n",
            "|            Obsidian|        4.17|      236780|Starting over suc...|sf_aliens|     4|\n",
            "|                Onyx|        4.27|      153429|BEING CONNECTED T...|sf_aliens|     4|\n",
            "|        The 5th Wave|        4.03|      400600|After the st wave...|sf_aliens|     4|\n",
            "|            The Host|        3.84|      915026|Melanie Stryder r...|sf_aliens|     3|\n",
            "|              Origin|        4.35|       93979|Daemon will do an...|sf_aliens|     4|\n",
            "|          Opposition|        4.37|       67740|Katy knows the wo...|sf_aliens|     4|\n",
            "|    I Am Number Four|        3.94|      319092|Nine of us came h...|sf_aliens|     3|\n",
            "|    The Infinite Sea|        3.87|      123001|How do you rid th...|sf_aliens|     3|\n",
            "|             Shadows|        4.12|       36224|The last thing Da...|sf_aliens|     4|\n",
            "|           Alienated|         3.9|       22136|Two years ago the...|sf_aliens|     3|\n",
            "|        Ender's Game|         4.3|     1162542|Andrew Ender Wigg...|sf_aliens|     4|\n",
            "|           Obsession|         4.1|       26310|This is a stand a...|sf_aliens|     4|\n",
            "|Ice Planet Barbar...|        3.85|       15856|Youd think being ...|sf_aliens|     3|\n",
            "|    The Power of Six|        4.15|      126036|Ive seen him on t...|sf_aliens|     4|\n",
            "|The Hitchhiker's ...|        4.22|     1484282|Seconds before th...|sf_aliens|     4|\n",
            "|             Claimed|        3.77|       17049|Olivia Waterhouse...|sf_aliens|     3|\n",
            "|       The Last Star|        3.63|       60302|The enemy is Othe...|sf_aliens|     3|\n",
            "|    The Rise of Nine|        4.18|       98072|The Rise of Nine ...|sf_aliens|     4|\n",
            "|     Barbarian Alien|        3.91|       10160|Twelve humans are...|sf_aliens|     3|\n",
            "|  These Broken Stars|         3.9|       64603|Its a night like ...|sf_aliens|     3|\n",
            "|              Cinder|        4.13|      711992|Humans and androi...|sf_aliens|     4|\n",
            "|         Ral's Woman|        3.82|       12457|Ariel never knew ...|sf_aliens|     3|\n",
            "|The War of the Wo...|        3.83|      251747|When an army of i...|sf_aliens|     3|\n",
            "|                Grim|        4.13|        9564|King Grim Vasteri...|sf_aliens|     4|\n",
            "|    The Fall of Five|        4.23|       58938|Alternate cover f...|sf_aliens|     4|\n",
            "|     Barbarian Lover|        3.99|        8264|As one of the few...|sf_aliens|     3|\n",
            "|The Long Way to a...|        4.15|       80637|Follow a motley c...|sf_aliens|     4|\n",
            "|    Awaken Me Darkly|        3.89|       11516|RIDDING THE WORLD...|sf_aliens|     3|\n",
            "|      Barbarian Mine|        4.06|        7838|The ice planet ha...|sf_aliens|     4|\n",
            "|             Gravity|        3.79|        8301|In the future onl...|sf_aliens|     3|\n",
            "|The Last Hour of ...|        4.09|        5474|It was her last c...|sf_aliens|     4|\n",
            "|  Stolen by an Alien|        4.02|        5788|AROKHI broke the ...|sf_aliens|     4|\n",
            "|             Scarlet|        4.27|      325646|Cinder returns in...|sf_aliens|     4|\n",
            "|The Three-Body Pr...|        4.06|      161935|The Three Body Pr...|sf_aliens|     4|\n",
            "|         Clean Sweep|        4.14|       41448|On the outside Di...|sf_aliens|     4|\n",
            "|Accidental Abduction|        3.79|        7052|Big bad and purpl...|sf_aliens|     3|\n",
            "|            Oblivion|        4.37|       15247|Experience the ep...|sf_aliens|     4|\n",
            "|     Sleeping Giants|        3.83|       72671|A girl named Rose...|sf_aliens|     3|\n",
            "|      Close Liaisons|         3.7|        9058|A dark and edgy r...|sf_aliens|     3|\n",
            "|            Venomous|        3.92|        5541|She is mine to pr...|sf_aliens|     3|\n",
            "|The Revenge of Seven|        4.27|       41848|The Garde have su...|sf_aliens|     4|\n",
            "|               Cress|        4.42|      287656|In this third boo...|sf_aliens|     4|\n",
            "|    The Darkest Star|        4.22|       13831|When seventeen ye...|sf_aliens|     4|\n",
            "|             Invaded|        3.94|        6997|The romantic sequ...|sf_aliens|     3|\n",
            "|              Hunted|        3.98|        9599|A desperate girl ...|sf_aliens|     3|\n",
            "|      Abducting Abby|        3.84|        7772|Abby Tanner is co...|sf_aliens|     3|\n",
            "|    Barbarian's Mate|        4.04|        6468|Resonance is supp...|sf_aliens|     4|\n",
            "|Speaker for the Dead|        4.07|      229858|Now available in ...|sf_aliens|     4|\n",
            "|    Kidnapping Casey|        3.82|        7864|All Casey wants i...|sf_aliens|     3|\n",
            "|   Barbarian's Prize|        3.99|        6287|Its hard being th...|sf_aliens|     3|\n",
            "+--------------------+------------+------------+--------------------+---------+------+\n",
            "only showing top 50 rows\n",
            "\n"
          ],
          "name": "stdout"
        }
      ]
    },
    {
      "cell_type": "code",
      "metadata": {
        "colab": {
          "base_uri": "https://localhost:8080/"
        },
        "id": "Wi6DTuA-9ek-",
        "outputId": "67edc531-cd83-4f02-ebae-cb8236b4177b"
      },
      "source": [
        "from pyspark.sql.functions import length\n",
        "# Create a length column to be used as a future feature \n",
        "data_df = spark_df.withColumn('length', length(spark_df['Book_Description']))\n",
        "data_df.show()"
      ],
      "execution_count": 14,
      "outputs": [
        {
          "output_type": "stream",
          "text": [
            "+--------------------+------------+------------+--------------------+---------+------+------+\n",
            "|          Book_Title|Rating_score|Rating_votes|    Book_Description| subgenre|rating|length|\n",
            "+--------------------+------------+------------+--------------------+---------+------+------+\n",
            "|            Obsidian|        4.17|      236780|Starting over suc...|sf_aliens|     4|   830|\n",
            "|                Onyx|        4.27|      153429|BEING CONNECTED T...|sf_aliens|     4|   987|\n",
            "|        The 5th Wave|        4.03|      400600|After the st wave...|sf_aliens|     4|   691|\n",
            "|            The Host|        3.84|      915026|Melanie Stryder r...|sf_aliens|     3|   580|\n",
            "|              Origin|        4.35|       93979|Daemon will do an...|sf_aliens|     4|   858|\n",
            "|          Opposition|        4.37|       67740|Katy knows the wo...|sf_aliens|     4|   828|\n",
            "|    I Am Number Four|        3.94|      319092|Nine of us came h...|sf_aliens|     3|   716|\n",
            "|    The Infinite Sea|        3.87|      123001|How do you rid th...|sf_aliens|     3|   619|\n",
            "|             Shadows|        4.12|       36224|The last thing Da...|sf_aliens|     4|   659|\n",
            "|           Alienated|         3.9|       22136|Two years ago the...|sf_aliens|     3|  1184|\n",
            "|        Ender's Game|         4.3|     1162542|Andrew Ender Wigg...|sf_aliens|     4|  1446|\n",
            "|           Obsession|         4.1|       26310|This is a stand a...|sf_aliens|     4|  1039|\n",
            "|Ice Planet Barbar...|        3.85|       15856|Youd think being ...|sf_aliens|     3|   318|\n",
            "|    The Power of Six|        4.15|      126036|Ive seen him on t...|sf_aliens|     4|   941|\n",
            "|The Hitchhiker's ...|        4.22|     1484282|Seconds before th...|sf_aliens|     4|   925|\n",
            "|             Claimed|        3.77|       17049|Olivia Waterhouse...|sf_aliens|     3|  1496|\n",
            "|       The Last Star|        3.63|       60302|The enemy is Othe...|sf_aliens|     3|   504|\n",
            "|    The Rise of Nine|        4.18|       98072|The Rise of Nine ...|sf_aliens|     4|   700|\n",
            "|     Barbarian Alien|        3.91|       10160|Twelve humans are...|sf_aliens|     3|   469|\n",
            "|  These Broken Stars|         3.9|       64603|Its a night like ...|sf_aliens|     3|  1067|\n",
            "+--------------------+------------+------------+--------------------+---------+------+------+\n",
            "only showing top 20 rows\n",
            "\n"
          ],
          "name": "stdout"
        }
      ]
    },
    {
      "cell_type": "code",
      "metadata": {
        "colab": {
          "base_uri": "https://localhost:8080/"
        },
        "id": "ZjMVoHsMFx71",
        "outputId": "61d69cf8-67cd-4ffa-a64c-19dfe60b1477"
      },
      "source": [
        "from pyspark.ml.feature import Tokenizer, StopWordsRemover, HashingTF, IDF, StringIndexer\n",
        "import nltk\n",
        "nltk.download('stopwords')\n",
        "\n",
        "stop_words = nltk.corpus.stopwords.words(\"english\")\n",
        "\n",
        "namesurl = 'https://raw.githubusercontent.com/lisb020/scifi_book_game/main/names_data.csv'\n",
        "names_df = pd.read_csv(namesurl)\n",
        "\n",
        "list_of_names = names_df['name'].to_list()\n",
        "name_list = []\n",
        "for name in list_of_names:\n",
        "    name_list.append(name.lower())\n",
        "\n",
        "stop_words.extend(name_list)\n",
        "number_words =[\"one\",\"two\",\"three\",\"four\",\"five\",\"six\",\"seven\",\"eight\",\"nine\",\"ten\"]\n",
        "stop_words.extend(number_words)"
      ],
      "execution_count": 16,
      "outputs": [
        {
          "output_type": "stream",
          "text": [
            "[nltk_data] Downloading package stopwords to /root/nltk_data...\n",
            "[nltk_data]   Package stopwords is already up-to-date!\n"
          ],
          "name": "stdout"
        }
      ]
    },
    {
      "cell_type": "code",
      "metadata": {
        "id": "xpsXkKoq9VkG"
      },
      "source": [
        "# Create all the features to the data set\n",
        "\n",
        "# select the feature to categorize\n",
        "rating_to_num = StringIndexer(inputCol='rating',outputCol='label')\n",
        "#sub_genre = StringIndexer(inputCol='subgenre',outputCol='label')\n",
        "\n",
        "#prepare the Book Description Data as a feature\n",
        "tokenizer = Tokenizer(inputCol=\"Book_Description\", outputCol=\"token_text\")\n",
        "stopremove = StopWordsRemover(inputCol='token_text',outputCol='stop_tokens',stopWords=stop_words)\n",
        "hashingTF = HashingTF(inputCol=\"stop_tokens\", outputCol='hash_token')\n",
        "idf = IDF(inputCol='hash_token', outputCol='idf_token')"
      ],
      "execution_count": 17,
      "outputs": []
    },
    {
      "cell_type": "code",
      "metadata": {
        "id": "vzs5HaaaoRHy"
      },
      "source": [
        "#prepare the Book Title data as a feature\n",
        "titletokenizer = Tokenizer(inputCol=\"Book_Title\", outputCol=\"token_title\")\n",
        "titlestopremove = StopWordsRemover(inputCol='token_title',outputCol='stop_title_tokens')\n",
        "titlehashingTF = HashingTF(inputCol=\"stop_title_tokens\", outputCol='hash_title_token')\n",
        "titleidf = IDF(inputCol='hash_title_token', outputCol='idf_title_token')"
      ],
      "execution_count": 18,
      "outputs": []
    },
    {
      "cell_type": "code",
      "metadata": {
        "id": "yssO0_Q5NYCb"
      },
      "source": [
        "from pyspark.ml.feature import VectorAssembler\n",
        "from pyspark.ml.linalg import Vector\n",
        "\n",
        "# Create feature vectors\n",
        "#clean_up = VectorAssembler(inputCols=['idf_token'], outputCol='features')\n",
        "#clean_up = VectorAssembler(inputCols=['idf_title_token'], outputCol='features')\n",
        "clean_up = VectorAssembler(inputCols=['idf_token','idf_title_token'], outputCol='features')\n",
        "#clean_up = VectorAssembler(inputCols=['idf_token'], outputCol='features')"
      ],
      "execution_count": 19,
      "outputs": []
    },
    {
      "cell_type": "code",
      "metadata": {
        "id": "E_YyUpR3NYCf"
      },
      "source": [
        "# Create a and run a data processing Pipeline\n",
        "from pyspark.ml import Pipeline\n",
        "#data_prep_pipeline = Pipeline(stages=[sub_genre, tokenizer, stopremove, hashingTF, idf, clean_up])\n",
        "#data_prep_pipeline = Pipeline(stages=[sub_genre, titletokenizer, titlestopremove, titlehashingTF, titleidf,clean_up])\n",
        "#data_prep_pipeline = Pipeline(stages=[sub_genre, tokenizer, stopremove, hashingTF, idf,titletokenizer, titlestopremove, titlehashingTF, titleidf,clean_up])\n",
        "\n",
        "#data_prep_pipeline = Pipeline(stages=[rating_to_num, tokenizer, stopremove, hashingTF, idf, clean_up])\n",
        "#data_prep_pipeline = Pipeline(stages=[rating_to_num, titletokenizer, titlestopremove, titlehashingTF, titleidf, clean_up])\n",
        "data_prep_pipeline = Pipeline(stages=[rating_to_num, tokenizer, stopremove, hashingTF, idf,titletokenizer, titlestopremove, titlehashingTF, titleidf,clean_up])"
      ],
      "execution_count": 20,
      "outputs": []
    },
    {
      "cell_type": "code",
      "metadata": {
        "id": "qBViHQOaNYCj"
      },
      "source": [
        "cleaner = data_prep_pipeline.fit(data_df)\n",
        "cleaned = cleaner.transform(data_df)"
      ],
      "execution_count": 21,
      "outputs": []
    },
    {
      "cell_type": "code",
      "metadata": {
        "colab": {
          "base_uri": "https://localhost:8080/"
        },
        "id": "RZIHmK38JnHQ",
        "outputId": "daae1dc5-c9bf-4b1f-fc58-6396fe0ce29e"
      },
      "source": [
        "# Show label and resulting features\n",
        "#cleaned.select(['label', 'features']).show(50)\n",
        "cleaned.select(['stop_tokens']).show(10,truncate = False)"
      ],
      "execution_count": 22,
      "outputs": [
        {
          "output_type": "stream",
          "text": [
            "+--------------------------------------------------------------------------------------------------------------------------------------------------------------------------------------------------------------------------------------------------------------------------------------------------------------------------------------------------------------------------------------------------------------------------------------------------------------------------------------------------------------------------------------------------------------------------------------------------------------------------------------------------------------------------------------------------------------------------------------------------------------------------------------------------------------------+\n",
            "|stop_tokens                                                                                                                                                                                                                                                                                                                                                                                                                                                                                                                                                                                                                                                                                                                                                                                                         |\n",
            "+--------------------------------------------------------------------------------------------------------------------------------------------------------------------------------------------------------------------------------------------------------------------------------------------------------------------------------------------------------------------------------------------------------------------------------------------------------------------------------------------------------------------------------------------------------------------------------------------------------------------------------------------------------------------------------------------------------------------------------------------------------------------------------------------------------------------+\n",
            "|[starting, sucks, moved, right, senior, year, id, much, resigned, thick, accents, dodgy, internet, whole, boring, spotted, hot, neighbor, looming, height, eerie, eyes, things, looking, opened, mouth, infuriating, arrogant, stab, get, along, stranger, attacks, literally, freezes, time, wave, hand, well, something, unexpected, happens, hot, alien, living, next, door, heard, alien, turns, sister, enemies, wanting, steal, abilities, daemons, touch, lit, strip, way, im, getting, alive, sticking, close, alien, mojo, fades, dont, kill, first]                                                                                                                                                                                                                                                       |\n",
            "|[connected, black, sucks, thanks, alien, mojo, daemons, determined, prove, feels, product, bizarro, connection, sworn, though, hes, running, hot, cold, days, weve, got, bigger, problems, something, worse, arum, come, town, department, defense, find, linked, im, goner, new, school, whos, got, knows, whats, happened, help, lie, stay, away, thats, possible, sense, im, falling, hard, everything, changes, seen, someone, shouldnt, alive, though, know, hes, never, going, stop, searching, gets, happened, brother, betrayed, dod, want, themfrom, seem, everyone, survive, lies]                                                                                                                                                                                                                        |\n",
            "|[wave, darkness, remains, nd, escape, unlucky, survive, th, wave, rule, applies, th, wave, lonely, stretch, highway, runs, beings, look, human, countryside, killing, anyone, scattered, earths, last, survivors, stay, alone, stay, alive, believes, meets, beguiling, mysterious, cassies, rescuing, brother, saving, must, choose, despair, defiance, surrender, death, give, get]                                                                                                                                                                                                                                                                                                                                                                                                                               |\n",
            "|[refuses, fade, away, invaded, species, take, minds, human, hosts, leaving, bodies, intact, wanderer, invading, melanies, body, didnt, expect, find, former, tenant, refusing, relinquish, possession, mind, fills, wanderers, thoughts, visions, human, still, lives, hiding, wanderer, begins, yearn, shes, never, met, reluctant, allies, wanderer, search, also, alternate, cover, editions, isbn]                                                                                                                                                                                                                                                                                                                                                                                                              |\n",
            "|[anything, get, back, successful, disastrous, mount, weather, hes, facing, impossible, gone, taken, everything, becomes, finding, taking, anyone, stands, way, done, burning, whole, world, save, gladly, exposing, alien, world, survive, surrounded, enemies, way, come, adapt, sides, dont, seem, entirely, crazy, groups, goals, frightening, truths, speak, disturbing, bad, guys, mankind, luxen, together, face, anything, dangerous, foe, along, truths, exposed, lies, come, crumbling, side, standing, together]                                                                                                                                                                                                                                                                                          |\n",
            "|[knows, world, changed, night, luxen, came, cant, welcomed, stood, kind, threatened, obliterate, last, human, hybrid, lines, good, bad, blurred, become, emotion, could, destroy, hercould, destroy, anything, save, loves, means, betrayal, must, team, unlikely, enemy, surviving, invasion, quickly, becomes, impossible, foe, world, crumbling, around, lose, everything, mostto, ensure, survival, friendsand, mankind, war, come, matter, outcome, never, left, standing, edition, includes, shadows, prequel]                                                                                                                                                                                                                                                                                                |\n",
            "|[us, came, look, talk, live, among, things, stronger, faster, anything, seen, superheroes, worship, movies, comic, books, plan, grow, train, become, strong, become, fight, found, us, started, hunting, us, first, us, running, spending, lives, shadows, places, would, look, blending, lived, among, without, knowing, know, caught, number, number, number, killed, number, next]                                                                                                                                                                                                                                                                                                                                                                                                                               |\n",
            "|[rid, humans, rid, humans, humanity, surviving, first, waves, nearly, impossible, finds, new, world, world, fundamental, binds, us, together, gone, th, wave, rolls, across, landscape, ringer, forced, confront, others, ultimate, goal, extermination, human, friends, havent, seen, depths, others, sink, others, seen, heights, humanity, ultimate, battle, death, despair, hate]                                                                                                                                                                                                                                                                                                                                                                                                                               |\n",
            "|[last, thing, black, expected, luxen, alien, form, human, girls, arewell, fun, since, luxen, keep, identities, falling, would, insane, dangerous, tempting, undeniable, cant, immediate, connection, though, boys, arent, complication, wants, cant, stay, away, still, whenever, lock, eyes, shes, drawn, captivated, lured, loved, keeping, change, existence, put, cant, stop, risking, everything, human, unavoidable]                                                                                                                                                                                                                                                                                                                                                                                          |\n",
            "|[years, ago, aliens, made, contact, sweeney, going, sharing, bathroom, handpicked, host, first, leihr, exchange, student, thinks, get, ride, college, inside, information, mysterious, leihrs, journalist, would, kill, caras, blog, following, skyrocket, still, isnt, sure, think, meets, aelyx, humans, leihrs, nearly, identical, dna, cold, infuriatingly, aelyx, couldnt, seem, alien, shes, certain, thing, though, human, good, looking, caras, classmates, get, swept, anti, leihr, paranoia, midtown, high, school, suddenly, isnt, safe, anymore, threatening, notes, appear, caras, locker, police, officer, escort, aelyx, class, finds, support, last, person, expected, realizes, aelyx, isnt, shes, hard, aelyx, hiding, exchange, potentially, deadly, consequences, fight, lifenot, loves, planet]|\n",
            "+--------------------------------------------------------------------------------------------------------------------------------------------------------------------------------------------------------------------------------------------------------------------------------------------------------------------------------------------------------------------------------------------------------------------------------------------------------------------------------------------------------------------------------------------------------------------------------------------------------------------------------------------------------------------------------------------------------------------------------------------------------------------------------------------------------------------+\n",
            "only showing top 10 rows\n",
            "\n"
          ],
          "name": "stdout"
        }
      ]
    },
    {
      "cell_type": "code",
      "metadata": {
        "id": "tkDJQLHOe-dz"
      },
      "source": [
        "from pyspark.ml.classification import NaiveBayes\n",
        "# Break data down into a training set and a testing set\n",
        "training, testing = cleaned.randomSplit([0.7, 0.3])\n",
        "\n",
        "# Create a Naive Bayes model and fit training data\n",
        "nb = NaiveBayes()\n",
        "predictor = nb.fit(training)"
      ],
      "execution_count": 23,
      "outputs": []
    },
    {
      "cell_type": "code",
      "metadata": {
        "colab": {
          "base_uri": "https://localhost:8080/"
        },
        "id": "2t8VfWy-e_od",
        "outputId": "9435d593-df6d-4f63-ce3f-958b83b8fb10"
      },
      "source": [
        "# Tranform the model with the testing data\n",
        "test_results = predictor.transform(testing)\n",
        "test_results['rating','prediction'].show(20,truncate=False)"
      ],
      "execution_count": 24,
      "outputs": [
        {
          "output_type": "stream",
          "text": [
            "+------+----------+\n",
            "|rating|prediction|\n",
            "+------+----------+\n",
            "|4     |0.0       |\n",
            "|3     |0.0       |\n",
            "|4     |0.0       |\n",
            "|3     |0.0       |\n",
            "|3     |0.0       |\n",
            "|3     |0.0       |\n",
            "|4     |0.0       |\n",
            "|4     |1.0       |\n",
            "|3     |0.0       |\n",
            "|3     |0.0       |\n",
            "|3     |0.0       |\n",
            "|3     |0.0       |\n",
            "|3     |0.0       |\n",
            "|3     |0.0       |\n",
            "|3     |1.0       |\n",
            "|3     |0.0       |\n",
            "|3     |1.0       |\n",
            "|3     |1.0       |\n",
            "|3     |0.0       |\n",
            "|3     |0.0       |\n",
            "+------+----------+\n",
            "only showing top 20 rows\n",
            "\n"
          ],
          "name": "stdout"
        }
      ]
    },
    {
      "cell_type": "code",
      "metadata": {
        "colab": {
          "base_uri": "https://localhost:8080/"
        },
        "id": "pCsb8mCzfLtA",
        "outputId": "ece09e99-9999-4486-941f-58cf10084710"
      },
      "source": [
        "## Use the Class Evaluator for a cleaner description\n",
        "from pyspark.ml.evaluation import MulticlassClassificationEvaluator\n",
        "\n",
        "acc_eval = MulticlassClassificationEvaluator()\n",
        "acc = acc_eval.evaluate(test_results)\n",
        "#print(\"Accuracy of model at predicting subgenre based on description was: %f\" % acc)\n",
        "#print(\"Accuracy of model at predicting subgenre based on title was: %f\" % acc)\n",
        "print(\"Accuracy of model at predicting rating based on description was: %f\" % acc)\n",
        "#print(\"Accuracy of model at predicting rating based on title was: %f\" % acc)\n",
        "#print(\"Accuracy of model at predicting rating based on description AND title was: %f\" % acc)"
      ],
      "execution_count": 25,
      "outputs": [
        {
          "output_type": "stream",
          "text": [
            "Accuracy of model at predicting rating based on description was: 0.658070\n"
          ],
          "name": "stdout"
        }
      ]
    },
    {
      "cell_type": "code",
      "metadata": {
        "colab": {
          "base_uri": "https://localhost:8080/"
        },
        "id": "Pl2AQJZ83hUn",
        "outputId": "cd392ad1-90d2-48da-b9ba-e9610ee475ce"
      },
      "source": [
        "from keras.models import Sequential\n",
        "from keras.layers import Dense, Embedding, LSTM, SpatialDropout1D\n",
        "from sklearn.model_selection import train_test_split\n",
        "from keras.utils.np_utils import to_categorical\n",
        "from keras.callbacks import EarlyStopping\n",
        "from keras.layers import Dropout\n",
        "from keras.preprocessing.text import Tokenizer as kerasTokenizer\n",
        "MAX_NB_WORDS = 50000\n",
        "# This is fixed.\n",
        "EMBEDDING_DIM = 100\n",
        "MAX_SEQUENCE_LENGTH = 250\n",
        "\n",
        "tokenizer = kerasTokenizer(num_words=MAX_NB_WORDS, filters='!\"#$%&()*+,-./:;<=>?@[\\]^_`{|}~', lower=True)\n",
        "tokenizer.fit_on_texts(pd_df['Book_Description'].values)\n",
        "word_index = tokenizer.word_index\n",
        "print('Found %s unique tokens.' % len(word_index))"
      ],
      "execution_count": 55,
      "outputs": [
        {
          "output_type": "stream",
          "text": [
            "Found 57398 unique tokens.\n"
          ],
          "name": "stdout"
        }
      ]
    },
    {
      "cell_type": "code",
      "metadata": {
        "colab": {
          "base_uri": "https://localhost:8080/"
        },
        "id": "-z8-4G0W3hZ_",
        "outputId": "6332cbb5-7d74-4260-ccd0-922f77052d1a"
      },
      "source": [
        "\n",
        "X = tokenizer.texts_to_sequences(pd_df['Book_Description'].values)\n",
        "X = pad_sequences(X, maxlen=MAX_SEQUENCE_LENGTH)\n",
        "print('Shape of data tensor:', X.shape)\n"
      ],
      "execution_count": 56,
      "outputs": [
        {
          "output_type": "stream",
          "text": [
            "Shape of data tensor: (10240, 250)\n"
          ],
          "name": "stdout"
        }
      ]
    },
    {
      "cell_type": "code",
      "metadata": {
        "colab": {
          "base_uri": "https://localhost:8080/"
        },
        "id": "RhqkaZ-U3hfn",
        "outputId": "e197ead1-ddca-43b0-a6f3-aa011a856fc0"
      },
      "source": [
        "Y = pd.get_dummies(pd_df['subgenre']).values\n",
        "print('Shape of label tensor:', Y.shape)\n",
        "print(Y)"
      ],
      "execution_count": 75,
      "outputs": [
        {
          "output_type": "stream",
          "text": [
            "Shape of label tensor: (10240, 12)\n",
            "[[1 0 0 ... 0 0 0]\n",
            " [1 0 0 ... 0 0 0]\n",
            " [1 0 0 ... 0 0 0]\n",
            " ...\n",
            " [0 0 0 ... 0 0 1]\n",
            " [0 0 0 ... 0 0 1]\n",
            " [0 0 0 ... 0 0 1]]\n"
          ],
          "name": "stdout"
        }
      ]
    },
    {
      "cell_type": "code",
      "metadata": {
        "colab": {
          "base_uri": "https://localhost:8080/"
        },
        "id": "RXQDMkX-3hlf",
        "outputId": "92fe9734-6a1a-4893-92a3-c06159b5f6f9"
      },
      "source": [
        "from sklearn.model_selection import train_test_split\n",
        "X_train, X_test, Y_train, Y_test = train_test_split(X,Y, test_size = 0.10, random_state = 42)\n",
        "print(X_train.shape,Y_train.shape)\n",
        "print(X_test.shape,Y_test.shape)"
      ],
      "execution_count": 58,
      "outputs": [
        {
          "output_type": "stream",
          "text": [
            "(9216, 250) (9216, 12)\n",
            "(1024, 250) (1024, 12)\n"
          ],
          "name": "stdout"
        }
      ]
    },
    {
      "cell_type": "code",
      "metadata": {
        "colab": {
          "base_uri": "https://localhost:8080/"
        },
        "id": "Z1ibWaUt3hrb",
        "outputId": "35c58260-5a9c-4c0d-f8fd-bc6db45a581c"
      },
      "source": [
        "model = Sequential()\n",
        "model.add(Embedding(MAX_NB_WORDS, EMBEDDING_DIM, input_length=X.shape[1]))\n",
        "model.add(SpatialDropout1D(0.2))\n",
        "model.add(LSTM(100, dropout=0.2, recurrent_dropout=0.2))\n",
        "model.add(Dense(12, activation='softmax'))\n",
        "model.compile(loss='categorical_crossentropy', optimizer='adam', metrics=['accuracy'])\n",
        "print(model.summary())"
      ],
      "execution_count": 62,
      "outputs": [
        {
          "output_type": "stream",
          "text": [
            "Model: \"sequential_1\"\n",
            "_________________________________________________________________\n",
            "Layer (type)                 Output Shape              Param #   \n",
            "=================================================================\n",
            "embedding_1 (Embedding)      (None, 250, 100)          5000000   \n",
            "_________________________________________________________________\n",
            "spatial_dropout1d_1 (Spatial (None, 250, 100)          0         \n",
            "_________________________________________________________________\n",
            "lstm_1 (LSTM)                (None, 100)               80400     \n",
            "_________________________________________________________________\n",
            "dense_1 (Dense)              (None, 12)                1212      \n",
            "=================================================================\n",
            "Total params: 5,081,612\n",
            "Trainable params: 5,081,612\n",
            "Non-trainable params: 0\n",
            "_________________________________________________________________\n",
            "None\n"
          ],
          "name": "stdout"
        }
      ]
    },
    {
      "cell_type": "code",
      "metadata": {
        "colab": {
          "base_uri": "https://localhost:8080/"
        },
        "id": "Ly8-Mqc__5T1",
        "outputId": "5139d57e-b09c-4847-c4eb-6447538e94ae"
      },
      "source": [
        "\n",
        "epochs = 5\n",
        "batch_size = 64\n",
        "\n",
        "history = model.fit(X_train, Y_train, epochs=epochs, batch_size=batch_size,validation_split=0.1,callbacks=[EarlyStopping(monitor='val_loss', patience=10, min_delta=0.0012)])"
      ],
      "execution_count": 79,
      "outputs": [
        {
          "output_type": "stream",
          "text": [
            "Epoch 1/5\n",
            "130/130 [==============================] - 83s 636ms/step - loss: 0.4415 - accuracy: 0.8685 - val_loss: 2.1095 - val_accuracy: 0.4252\n",
            "Epoch 2/5\n",
            "130/130 [==============================] - 82s 634ms/step - loss: 0.3082 - accuracy: 0.9044 - val_loss: 2.2316 - val_accuracy: 0.4187\n",
            "Epoch 3/5\n",
            "130/130 [==============================] - 83s 636ms/step - loss: 0.2039 - accuracy: 0.9433 - val_loss: 2.2982 - val_accuracy: 0.4317\n",
            "Epoch 4/5\n",
            "130/130 [==============================] - 83s 635ms/step - loss: 0.1458 - accuracy: 0.9567 - val_loss: 2.5536 - val_accuracy: 0.4534\n",
            "Epoch 5/5\n",
            "130/130 [==============================] - 83s 635ms/step - loss: 0.1188 - accuracy: 0.9677 - val_loss: 2.4710 - val_accuracy: 0.4479\n"
          ],
          "name": "stdout"
        }
      ]
    },
    {
      "cell_type": "code",
      "metadata": {
        "colab": {
          "base_uri": "https://localhost:8080/"
        },
        "id": "mvGMXcqi_5Xf",
        "outputId": "9b240b11-5e65-4501-bc45-7b4f56050580"
      },
      "source": [
        "accr = model.evaluate(X_test,Y_test)\n",
        "print('Test set\\n  Loss: {:0.3f}\\n  Accuracy: {:0.3f}'.format(accr[0],accr[1]))"
      ],
      "execution_count": 80,
      "outputs": [
        {
          "output_type": "stream",
          "text": [
            "32/32 [==============================] - 2s 63ms/step - loss: 2.3977 - accuracy: 0.4932\n",
            "Test set\n",
            "  Loss: 2.398\n",
            "  Accuracy: 0.493\n"
          ],
          "name": "stdout"
        }
      ]
    },
    {
      "cell_type": "code",
      "metadata": {
        "colab": {
          "base_uri": "https://localhost:8080/",
          "height": 281
        },
        "id": "2Dai4TfU_5aU",
        "outputId": "6137e801-8e7c-4619-98af-aa3d3e6d2ae2"
      },
      "source": [
        "import matplotlib.pyplot as plt\n",
        "plt.title('Loss')\n",
        "plt.plot(history.history['loss'], label='train')\n",
        "plt.plot(history.history['val_loss'], label='test')\n",
        "plt.legend()\n",
        "plt.show();"
      ],
      "execution_count": 81,
      "outputs": [
        {
          "output_type": "display_data",
          "data": {
            "image/png": "[encoded data removed]",
            "text/plain": [
              "<Figure size 432x288 with 1 Axes>"
            ]
          },
          "metadata": {
            "tags": [],
            "needs_background": "light"
          }
        }
      ]
    },
    {
      "cell_type": "code",
      "metadata": {
        "colab": {
          "base_uri": "https://localhost:8080/",
          "height": 319
        },
        "id": "_YWrqQU0_5eK",
        "outputId": "18ebe7ee-488c-4ea7-824b-f46b002be434"
      },
      "source": [
        "print(history.history)\n",
        "plt.title('Accuracy')\n",
        "plt.plot(history.history['accuracy'], label='train')\n",
        "plt.plot(history.history['val_accuracy'], label='test')\n",
        "plt.legend()\n",
        "plt.show();"
      ],
      "execution_count": 82,
      "outputs": [
        {
          "output_type": "stream",
          "text": [
            "{'loss': [0.44153082370758057, 0.3082120418548584, 0.20392121374607086, 0.14579524099826813, 0.11881750822067261], 'accuracy': [0.8684591054916382, 0.9043887257575989, 0.9433325529098511, 0.9567157030105591, 0.9676874876022339], 'val_loss': [2.109525203704834, 2.2315726280212402, 2.2982335090637207, 2.5535542964935303, 2.470987319946289], 'val_accuracy': [0.4251627027988434, 0.4186550974845886, 0.43167027831077576, 0.45336225628852844, 0.44793927669525146]}\n"
          ],
          "name": "stdout"
        },
        {
          "output_type": "display_data",
          "data": {
            "image/png": "[encoded data removed]",
            "text/plain": [
              "<Figure size 432x288 with 1 Axes>"
            ]
          },
          "metadata": {
            "tags": [],
            "needs_background": "light"
          }
        }
      ]
    },
    {
      "cell_type": "code",
      "metadata": {
        "colab": {
          "base_uri": "https://localhost:8080/"
        },
        "id": "JBj8_2N_J8Os",
        "outputId": "314532ca-f796-49be-d4fb-704ed8167721"
      },
      "source": [
        "\n",
        "import numpy as np \n",
        "new_desc = [\"Jaime never expected his software to change the world. \"]\n",
        "seq = tokenizer.texts_to_sequences(new_desc)\n",
        "padded = pad_sequences(seq, maxlen=MAX_SEQUENCE_LENGTH)\n",
        "pred = model.predict(padded)\n",
        "labels = pd_df[\"subgenre\"].unique()\n",
        "\n",
        "print(pred, labels[np.argmax(pred)])"
      ],
      "execution_count": 94,
      "outputs": [
        {
          "output_type": "stream",
          "text": [
            "[[0.01457144 0.08812165 0.12246091 0.147283   0.15740344 0.09710019\n",
            "  0.12965041 0.00824092 0.09813927 0.01727903 0.10468029 0.01506942]] sf_cyberpunk\n"
          ],
          "name": "stdout"
        }
      ]
    }
  ]
}