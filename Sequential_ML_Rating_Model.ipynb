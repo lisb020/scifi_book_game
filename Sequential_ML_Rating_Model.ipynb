{
 "cells": [
  {
   "cell_type": "code",
   "execution_count": 1,
   "metadata": {
    "id": "9kg0H-8T6r-G"
   },
   "outputs": [],
   "source": [
    "import os\n",
    "import pandas as pd"
   ]
  },
  {
   "cell_type": "code",
   "execution_count": 2,
   "metadata": {
    "id": "dQMvrpeBp5D1"
   },
   "outputs": [],
   "source": [
    "# # uncleaned data\n",
    "# url = 'https://raw.githubusercontent.com/lisb020/scifi_book_game/main/BookList.csv'\n",
    "# pd_df = pd.read_csv(url)\n",
    "# pd_df.head()"
   ]
  },
  {
   "cell_type": "code",
   "execution_count": 3,
   "metadata": {
    "colab": {
     "base_uri": "https://localhost:8080/",
     "height": 202
    },
    "id": "9JQGj92m60R_",
    "outputId": "3f8a6c4d-2e26-404e-8edb-ad7927bc1c88"
   },
   "outputs": [
    {
     "data": {
      "text/html": [
       "<div>\n",
       "<style scoped>\n",
       "    .dataframe tbody tr th:only-of-type {\n",
       "        vertical-align: middle;\n",
       "    }\n",
       "\n",
       "    .dataframe tbody tr th {\n",
       "        vertical-align: top;\n",
       "    }\n",
       "\n",
       "    .dataframe thead th {\n",
       "        text-align: right;\n",
       "    }\n",
       "</style>\n",
       "<table border=\"1\" class=\"dataframe\">\n",
       "  <thead>\n",
       "    <tr style=\"text-align: right;\">\n",
       "      <th></th>\n",
       "      <th>Unnamed: 0</th>\n",
       "      <th>Book_Title</th>\n",
       "      <th>Rating_score</th>\n",
       "      <th>Rating_votes</th>\n",
       "      <th>Book_Description</th>\n",
       "      <th>subgenre</th>\n",
       "      <th>rating</th>\n",
       "    </tr>\n",
       "  </thead>\n",
       "  <tbody>\n",
       "    <tr>\n",
       "      <th>0</th>\n",
       "      <td>0</td>\n",
       "      <td>Obsidian</td>\n",
       "      <td>4.17</td>\n",
       "      <td>236780</td>\n",
       "      <td>starting sucks moved right senior year id much...</td>\n",
       "      <td>sf_aliens</td>\n",
       "      <td>2</td>\n",
       "    </tr>\n",
       "    <tr>\n",
       "      <th>1</th>\n",
       "      <td>1</td>\n",
       "      <td>Onyx</td>\n",
       "      <td>4.27</td>\n",
       "      <td>153429</td>\n",
       "      <td>connected black sucks thanks alien mojo daemon...</td>\n",
       "      <td>sf_aliens</td>\n",
       "      <td>2</td>\n",
       "    </tr>\n",
       "    <tr>\n",
       "      <th>2</th>\n",
       "      <td>2</td>\n",
       "      <td>The 5th Wave</td>\n",
       "      <td>4.03</td>\n",
       "      <td>400600</td>\n",
       "      <td>wave darkness remains nd escape unlucky surviv...</td>\n",
       "      <td>sf_aliens</td>\n",
       "      <td>2</td>\n",
       "    </tr>\n",
       "    <tr>\n",
       "      <th>3</th>\n",
       "      <td>3</td>\n",
       "      <td>The Host</td>\n",
       "      <td>3.84</td>\n",
       "      <td>915026</td>\n",
       "      <td>refuses fade away invaded species take minds h...</td>\n",
       "      <td>sf_aliens</td>\n",
       "      <td>1</td>\n",
       "    </tr>\n",
       "    <tr>\n",
       "      <th>4</th>\n",
       "      <td>4</td>\n",
       "      <td>Origin</td>\n",
       "      <td>4.35</td>\n",
       "      <td>93979</td>\n",
       "      <td>anything get back successful disastrous mount ...</td>\n",
       "      <td>sf_aliens</td>\n",
       "      <td>2</td>\n",
       "    </tr>\n",
       "  </tbody>\n",
       "</table>\n",
       "</div>"
      ],
      "text/plain": [
       "   Unnamed: 0    Book_Title  Rating_score  Rating_votes  \\\n",
       "0           0      Obsidian          4.17        236780   \n",
       "1           1          Onyx          4.27        153429   \n",
       "2           2  The 5th Wave          4.03        400600   \n",
       "3           3      The Host          3.84        915026   \n",
       "4           4        Origin          4.35         93979   \n",
       "\n",
       "                                    Book_Description   subgenre  rating  \n",
       "0  starting sucks moved right senior year id much...  sf_aliens       2  \n",
       "1  connected black sucks thanks alien mojo daemon...  sf_aliens       2  \n",
       "2  wave darkness remains nd escape unlucky surviv...  sf_aliens       2  \n",
       "3  refuses fade away invaded species take minds h...  sf_aliens       1  \n",
       "4  anything get back successful disastrous mount ...  sf_aliens       2  "
      ]
     },
     "execution_count": 3,
     "metadata": {},
     "output_type": "execute_result"
    }
   ],
   "source": [
    "#cleaned data\n",
    "url = 'https://raw.githubusercontent.com/lisb020/scifi_book_game/main/cleanedDf.csv'\n",
    "pd_df = pd.read_csv(url)\n",
    "pd_df.head()"
   ]
  },
  {
   "cell_type": "code",
   "execution_count": 4,
   "metadata": {
    "colab": {
     "base_uri": "https://localhost:8080/",
     "height": 202
    },
    "id": "2GR935mbFGYj",
    "outputId": "8195058c-bbc6-4cf0-c8b7-43705554dcf9"
   },
   "outputs": [
    {
     "data": {
      "text/html": [
       "<div>\n",
       "<style scoped>\n",
       "    .dataframe tbody tr th:only-of-type {\n",
       "        vertical-align: middle;\n",
       "    }\n",
       "\n",
       "    .dataframe tbody tr th {\n",
       "        vertical-align: top;\n",
       "    }\n",
       "\n",
       "    .dataframe thead th {\n",
       "        text-align: right;\n",
       "    }\n",
       "</style>\n",
       "<table border=\"1\" class=\"dataframe\">\n",
       "  <thead>\n",
       "    <tr style=\"text-align: right;\">\n",
       "      <th></th>\n",
       "      <th>Book_Title</th>\n",
       "      <th>Rating_score</th>\n",
       "      <th>Rating_votes</th>\n",
       "      <th>Book_Description</th>\n",
       "      <th>subgenre</th>\n",
       "      <th>rating</th>\n",
       "    </tr>\n",
       "  </thead>\n",
       "  <tbody>\n",
       "    <tr>\n",
       "      <th>0</th>\n",
       "      <td>Obsidian</td>\n",
       "      <td>4.17</td>\n",
       "      <td>236780</td>\n",
       "      <td>starting sucks moved right senior year id much...</td>\n",
       "      <td>sf_aliens</td>\n",
       "      <td>2</td>\n",
       "    </tr>\n",
       "    <tr>\n",
       "      <th>1</th>\n",
       "      <td>Onyx</td>\n",
       "      <td>4.27</td>\n",
       "      <td>153429</td>\n",
       "      <td>connected black sucks thanks alien mojo daemon...</td>\n",
       "      <td>sf_aliens</td>\n",
       "      <td>2</td>\n",
       "    </tr>\n",
       "    <tr>\n",
       "      <th>2</th>\n",
       "      <td>The 5th Wave</td>\n",
       "      <td>4.03</td>\n",
       "      <td>400600</td>\n",
       "      <td>wave darkness remains nd escape unlucky surviv...</td>\n",
       "      <td>sf_aliens</td>\n",
       "      <td>2</td>\n",
       "    </tr>\n",
       "    <tr>\n",
       "      <th>3</th>\n",
       "      <td>The Host</td>\n",
       "      <td>3.84</td>\n",
       "      <td>915026</td>\n",
       "      <td>refuses fade away invaded species take minds h...</td>\n",
       "      <td>sf_aliens</td>\n",
       "      <td>1</td>\n",
       "    </tr>\n",
       "    <tr>\n",
       "      <th>4</th>\n",
       "      <td>Origin</td>\n",
       "      <td>4.35</td>\n",
       "      <td>93979</td>\n",
       "      <td>anything get back successful disastrous mount ...</td>\n",
       "      <td>sf_aliens</td>\n",
       "      <td>2</td>\n",
       "    </tr>\n",
       "  </tbody>\n",
       "</table>\n",
       "</div>"
      ],
      "text/plain": [
       "     Book_Title  Rating_score  Rating_votes  \\\n",
       "0      Obsidian          4.17        236780   \n",
       "1          Onyx          4.27        153429   \n",
       "2  The 5th Wave          4.03        400600   \n",
       "3      The Host          3.84        915026   \n",
       "4        Origin          4.35         93979   \n",
       "\n",
       "                                    Book_Description   subgenre  rating  \n",
       "0  starting sucks moved right senior year id much...  sf_aliens       2  \n",
       "1  connected black sucks thanks alien mojo daemon...  sf_aliens       2  \n",
       "2  wave darkness remains nd escape unlucky surviv...  sf_aliens       2  \n",
       "3  refuses fade away invaded species take minds h...  sf_aliens       1  \n",
       "4  anything get back successful disastrous mount ...  sf_aliens       2  "
      ]
     },
     "execution_count": 4,
     "metadata": {},
     "output_type": "execute_result"
    }
   ],
   "source": [
    "pd_df.drop(columns=\"Unnamed: 0\", inplace=True)\n",
    "pd_df.head()"
   ]
  },
  {
   "cell_type": "code",
   "execution_count": 5,
   "metadata": {
    "id": "-BkGqD8RMe6O"
   },
   "outputs": [],
   "source": [
    "import math\n",
    "def round_down(row):\n",
    "    if (row['Rating_score']>= 4):\n",
    "      return str(2)\n",
    "    elif (row['Rating_score']>= 3.75):\n",
    "      return str(1)\n",
    "    else:\n",
    "      return str(0)\n",
    "\n",
    "\n",
    "pd_df['rating'] = pd_df.apply (lambda row: round_down(row), axis=1) "
   ]
  },
  {
   "cell_type": "code",
   "execution_count": 6,
   "metadata": {
    "colab": {
     "base_uri": "https://localhost:8080/"
    },
    "id": "KttSiu91-13F",
    "outputId": "6a11feed-45b4-44e5-c9bd-f6023e51abad"
   },
   "outputs": [
    {
     "name": "stdout",
     "output_type": "stream",
     "text": [
      "2    4230\n",
      "1    3336\n",
      "0    2674\n",
      "Name: rating, dtype: int64\n"
     ]
    }
   ],
   "source": [
    "print(pd_df['rating'].value_counts())"
   ]
  },
  {
   "cell_type": "code",
   "execution_count": 7,
   "metadata": {
    "id": "RPvQOXcqnxPP"
   },
   "outputs": [],
   "source": [
    "def remove_nums(row):\n",
    "  output = ''.join(c for c in str(row['Book_Description']) if not c.isdigit())\n",
    "  return(output)\n",
    "\n",
    "pd_df['Book_Description'] = pd_df.apply (lambda row: remove_nums(row), axis=1) "
   ]
  },
  {
   "cell_type": "code",
   "execution_count": 8,
   "metadata": {
    "id": "TAeGZCXL6txJ"
   },
   "outputs": [],
   "source": [
    "def remove_multi_spaces(row):\n",
    "  single_spaces = \" \".join(str(row['Book_Description']).split())\n",
    "  return(single_spaces)\n",
    "\n",
    "pd_df['Book_Description'] = pd_df.apply (lambda row: remove_multi_spaces(row), axis=1)   "
   ]
  },
  {
   "cell_type": "code",
   "execution_count": 9,
   "metadata": {
    "id": "FQlz_Skg6x7e"
   },
   "outputs": [],
   "source": [
    "def remove_unicode(row):\n",
    "  string_encode = str(row['Book_Description']).encode(\"ascii\", \"ignore\")\n",
    "  return(string_encode.decode())\n",
    "\n",
    "pd_df['Book_Description'] = pd_df.apply (lambda row: remove_unicode(row), axis=1) "
   ]
  },
  {
   "cell_type": "code",
   "execution_count": 10,
   "metadata": {
    "colab": {
     "base_uri": "https://localhost:8080/"
    },
    "id": "CkP2PTwdL02j",
    "outputId": "ea8190d4-77d0-4c65-983e-260aabfe0b2c"
   },
   "outputs": [
    {
     "data": {
      "text/plain": [
       "array(['sf_aliens', 'sf_alternate_history', 'sf_alternate_universe',\n",
       "       'sf_apocalyptic', 'sf_cyberpunk', 'sf_dystopia', 'sf_hard',\n",
       "       'sf_military', 'sf_robots', 'sf_space_opera', 'sf_steampunk',\n",
       "       'sf_time_travel'], dtype=object)"
      ]
     },
     "execution_count": 10,
     "metadata": {},
     "output_type": "execute_result"
    }
   ],
   "source": [
    "pd_df['subgenre'].unique()"
   ]
  },
  {
   "cell_type": "code",
   "execution_count": 11,
   "metadata": {
    "colab": {
     "base_uri": "https://localhost:8080/"
    },
    "id": "ZjMVoHsMFx71",
    "outputId": "32b1b705-4da8-424b-9fb4-4b91d11aec3c"
   },
   "outputs": [],
   "source": [
    "# #####!!!!! run this only when using the cleaned version of the data!!!!!\n",
    "# import nltk\n",
    "# nltk.download('stopwords')\n",
    "\n",
    "# stop_words = nltk.corpus.stopwords.words(\"english\")\n",
    "\n",
    "# namesurl = 'https://raw.githubusercontent.com/lisb020/scifi_book_game/main/names_data.csv'\n",
    "# names_df = pd.read_csv(namesurl)\n",
    "\n",
    "# list_of_names = names_df['name'].to_list()\n",
    "# name_list = []\n",
    "# for name in list_of_names:\n",
    "#     name_list.append(name.lower())\n",
    "\n",
    "# stop_words.extend(name_list)\n",
    "# number_words =[\"one\",\"two\",\"three\",\"four\",\"five\",\"six\",\"seven\",\"eight\",\"nine\",\"ten\"]\n",
    "# stop_words.extend(number_words)\n",
    "# print(stop_words)\n",
    "# def filter_stop_words(row, stop_words):\n",
    "#   desc_list = [word for word in row['Book_Description'].lower().split() if word not in stop_words] \n",
    "#   return ' '.join(desc_list) \n",
    "\n"
   ]
  },
  {
   "cell_type": "code",
   "execution_count": 12,
   "metadata": {
    "id": "xLyYTPDS6u0T"
   },
   "outputs": [],
   "source": [
    "## only run this if cleaning a new set of data to remove stop words\n",
    "#pd_df['Book_Description'] = pd_df.apply (lambda row: filter_stop_words(row,stop_words), axis=1) \n",
    "\n",
    "# desc = filter_stop_words(pd_df['Book_Description'].iloc[10].lower(),stop_words)\n",
    "# print(desc)\n",
    "#pd_df.to_csv(\"cleanedDf.csv\")"
   ]
  },
  {
   "cell_type": "code",
   "execution_count": 13,
   "metadata": {
    "colab": {
     "base_uri": "https://localhost:8080/"
    },
    "id": "Pl2AQJZ83hUn",
    "outputId": "47b51caa-e8fc-4dec-eb54-c2b0c9148513"
   },
   "outputs": [
    {
     "name": "stdout",
     "output_type": "stream",
     "text": [
      "Found 49874 unique tokens.\n"
     ]
    }
   ],
   "source": [
    "from keras.models import Sequential\n",
    "from keras.layers import Dense, Embedding, LSTM, SpatialDropout1D\n",
    "from keras.regularizers import l1\n",
    "from sklearn.model_selection import train_test_split\n",
    "from keras.utils.np_utils import to_categorical\n",
    "from keras.callbacks import EarlyStopping\n",
    "from keras.layers import Dropout\n",
    "from keras.preprocessing.text import Tokenizer as kerasTokenizer\n",
    "from keras.preprocessing.sequence import pad_sequences\n",
    "import numpy as np\n",
    "\n",
    "\n",
    "MAX_NB_WORDS = 50000\n",
    "# This is fixed.\n",
    "EMBEDDING_DIM = 100\n",
    "MAX_SEQUENCE_LENGTH = 250\n",
    "\n",
    "tokenizer = kerasTokenizer(num_words=MAX_NB_WORDS, filters='!\"#$%&()*+,-./:;<=>?@[\\]^_`{|}~', lower=True)\n",
    "tokenizer.fit_on_texts(pd_df['Book_Description'].values)\n",
    "word_index = tokenizer.word_index\n",
    "print('Found %s unique tokens.' % len(word_index))"
   ]
  },
  {
   "cell_type": "code",
   "execution_count": 14,
   "metadata": {
    "id": "4zTuOd0jKc9P"
   },
   "outputs": [],
   "source": [
    "import pickle\n",
    "\n",
    "# saving\n",
    "# with open('tokenizer.pickle', 'wb') as handle:\n",
    "#     pickle.dump(tokenizer, handle, protocol=pickle.HIGHEST_PROTOCOL)"
   ]
  },
  {
   "cell_type": "code",
   "execution_count": 15,
   "metadata": {
    "colab": {
     "base_uri": "https://localhost:8080/"
    },
    "id": "-z8-4G0W3hZ_",
    "outputId": "6a215bfa-af79-4929-942f-6b7c22166414"
   },
   "outputs": [
    {
     "name": "stdout",
     "output_type": "stream",
     "text": [
      "Shape of data tensor: (10240, 250)\n"
     ]
    }
   ],
   "source": [
    "\n",
    "X = tokenizer.texts_to_sequences(pd_df['Book_Description'].values)\n",
    "X = pad_sequences(X, maxlen=MAX_SEQUENCE_LENGTH)\n",
    "print('Shape of data tensor:', X.shape)\n"
   ]
  },
  {
   "cell_type": "code",
   "execution_count": 16,
   "metadata": {
    "colab": {
     "base_uri": "https://localhost:8080/"
    },
    "id": "95SKFGv6KwFX",
    "outputId": "01360a3d-bc06-4001-9bea-86a46b726832"
   },
   "outputs": [
    {
     "name": "stdout",
     "output_type": "stream",
     "text": [
      "Shape of label tensor: (10240, 3)\n",
      "[[0 0 1]\n",
      " [0 0 1]\n",
      " [0 0 1]\n",
      " ...\n",
      " [1 0 0]\n",
      " [1 0 0]\n",
      " [0 1 0]]\n"
     ]
    }
   ],
   "source": [
    "#RATING\n",
    "\n",
    "Y = pd.get_dummies(pd_df['rating']).values\n",
    "print('Shape of label tensor:', Y.shape)\n",
    "print(Y)"
   ]
  },
  {
   "cell_type": "code",
   "execution_count": 17,
   "metadata": {
    "colab": {
     "base_uri": "https://localhost:8080/"
    },
    "id": "RXQDMkX-3hlf",
    "outputId": "56a24b93-473b-45c5-ba45-c6d3f253d643"
   },
   "outputs": [
    {
     "name": "stdout",
     "output_type": "stream",
     "text": [
      "(9420, 250) (9420, 3)\n",
      "(820, 250) (820, 3)\n"
     ]
    }
   ],
   "source": [
    "from sklearn.model_selection import train_test_split\n",
    "X_train, X_test, Y_train, Y_test = train_test_split(X,Y, test_size = 0.08, random_state = 42)\n",
    "print(X_train.shape,Y_train.shape)\n",
    "print(X_test.shape,Y_test.shape)"
   ]
  },
  {
   "cell_type": "code",
   "execution_count": 19,
   "metadata": {
    "colab": {
     "base_uri": "https://localhost:8080/"
    },
    "id": "SCi6XdMx0nwo",
    "outputId": "bb4b8fdf-dc0d-4e5c-842d-9e6f89e2d1e2",
    "scrolled": true
   },
   "outputs": [
    {
     "name": "stdout",
     "output_type": "stream",
     "text": [
      "Model: \"sequential\"\n",
      "_________________________________________________________________\n",
      "Layer (type)                 Output Shape              Param #   \n",
      "=================================================================\n",
      "embedding (Embedding)        (None, 250, 100)          5000000   \n",
      "_________________________________________________________________\n",
      "spatial_dropout1d (SpatialDr (None, 250, 100)          0         \n",
      "_________________________________________________________________\n",
      "lstm (LSTM)                  (None, 100)               80400     \n",
      "_________________________________________________________________\n",
      "dense (Dense)                (None, 3)                 303       \n",
      "=================================================================\n",
      "Total params: 5,080,703\n",
      "Trainable params: 5,080,703\n",
      "Non-trainable params: 0\n",
      "_________________________________________________________________\n",
      "None\n"
     ]
    }
   ],
   "source": [
    "model2 = Sequential()\n",
    "model2.add(Embedding(MAX_NB_WORDS, EMBEDDING_DIM, input_length=X.shape[1]))\n",
    "model2.add(SpatialDropout1D(0.4))\n",
    "model2.add(LSTM(100, dropout=0.45, recurrent_dropout=0.45, activity_regularizer=l1(0.002)))\n",
    "model2.add(Dense(3, activation='softmax'))\n",
    "model2.compile(loss='categorical_crossentropy', optimizer='adam', metrics=['accuracy'])\n",
    "print(model2.summary())"
   ]
  },
  {
   "cell_type": "code",
   "execution_count": 20,
   "metadata": {
    "colab": {
     "base_uri": "https://localhost:8080/"
    },
    "id": "em2Dr2xw0n00",
    "outputId": "88ba2499-7cd1-4887-e3ef-84331c2c04b1",
    "scrolled": true
   },
   "outputs": [
    {
     "name": "stdout",
     "output_type": "stream",
     "text": [
      "Epoch 1/5\n",
      "133/133 [==============================] - 137s 1s/step - loss: 1.0880 - accuracy: 0.4046 - val_loss: 1.0805 - val_accuracy: 0.4108\n",
      "Epoch 2/5\n",
      "133/133 [==============================] - 136s 1s/step - loss: 1.0048 - accuracy: 0.5068 - val_loss: 1.0577 - val_accuracy: 0.4522\n",
      "Epoch 3/5\n",
      "133/133 [==============================] - 135s 1s/step - loss: 0.7430 - accuracy: 0.6748 - val_loss: 1.2115 - val_accuracy: 0.4682\n",
      "Epoch 4/5\n",
      "133/133 [==============================] - 118s 891ms/step - loss: 0.4744 - accuracy: 0.8223 - val_loss: 1.4437 - val_accuracy: 0.4628\n",
      "Epoch 5/5\n",
      "133/133 [==============================] - 119s 896ms/step - loss: 0.3020 - accuracy: 0.8942 - val_loss: 1.6411 - val_accuracy: 0.4798\n"
     ]
    }
   ],
   "source": [
    "\n",
    "epochs = 5\n",
    "batch_size = 64\n",
    "\n",
    "history = model2.fit(X_train, Y_train, epochs=epochs, batch_size=batch_size,validation_split=0.1,callbacks=[EarlyStopping(monitor='val_loss', patience=4, min_delta=0.0002)])"
   ]
  },
  {
   "cell_type": "code",
   "execution_count": 23,
   "metadata": {
    "colab": {
     "base_uri": "https://localhost:8080/"
    },
    "id": "teXV3Oz9WcxS",
    "outputId": "a309dc33-41ce-4573-f308-8becf5fd3148",
    "scrolled": true
   },
   "outputs": [
    {
     "name": "stdout",
     "output_type": "stream",
     "text": [
      "26/26 [==============================] - 1s 57ms/step - loss: 1.5568 - accuracy: 0.4659 0s - loss:\n",
      "Model2 Test set\n",
      "  Loss: 1.557\n",
      "  Accuracy: 0.466\n"
     ]
    }
   ],
   "source": [
    "accr = model2.evaluate(X_test,Y_test)\n",
    "print('Model2 Test set\\n  Loss: {:0.3f}\\n  Accuracy: {:0.3f}'.format(accr[0],accr[1]))"
   ]
  },
  {
   "cell_type": "code",
   "execution_count": 24,
   "metadata": {},
   "outputs": [
    {
     "data": {
      "image/png": "[encoded data removed]",
      "text/plain": [
       "<Figure size 432x288 with 1 Axes>"
      ]
     },
     "metadata": {
      "needs_background": "light"
     },
     "output_type": "display_data"
    }
   ],
   "source": [
    "import matplotlib.pyplot as plt\n",
    "def loss_plot(ax, fontsize=12):\n",
    "    ax.plot(history.history['loss'], label='train')\n",
    "    ax.plot(history.history['val_loss'], label='test')\n",
    "    ax.legend()\n",
    "    ax.set_title('Loss', fontsize=fontsize)\n",
    "\n",
    "plt.close('all')\n",
    "fig, ax = plt.subplots()\n",
    "loss_plot(ax, fontsize=24)\n",
    "plt.savefig('rating_model_loss.png')"
   ]
  },
  {
   "cell_type": "code",
   "execution_count": 25,
   "metadata": {
    "colab": {
     "base_uri": "https://localhost:8080/",
     "height": 336
    },
    "id": "ssNvXAWQWdSw",
    "outputId": "e2a975e0-a80a-43ec-f2d0-d15a27e9cd22"
   },
   "outputs": [
    {
     "data": {
      "image/png": "[encoded data removed]",
      "text/plain": [
       "<Figure size 432x288 with 1 Axes>"
      ]
     },
     "metadata": {
      "needs_background": "light"
     },
     "output_type": "display_data"
    }
   ],
   "source": [
    "def acc_plot(ax, fontsize=12):\n",
    "    ax.plot(history.history['accuracy'], label='train')\n",
    "    ax.plot(history.history['val_accuracy'], label='test')\n",
    "    ax.legend()\n",
    "    ax.set_title('Accuracy', fontsize=fontsize)\n",
    "\n",
    "plt.close('all')\n",
    "fig, ax = plt.subplots()\n",
    "acc_plot(ax, fontsize=24)\n",
    "plt.savefig('rating_model_acc.png')"
   ]
  },
  {
   "cell_type": "code",
   "execution_count": 28,
   "metadata": {
    "id": "4pBsGwyv0n48"
   },
   "outputs": [],
   "source": [
    "ratings = ['Great Read', 'Will get Read', 'take a chance']"
   ]
  },
  {
   "cell_type": "code",
   "execution_count": 29,
   "metadata": {
    "id": "ogZpdhwR3oXA"
   },
   "outputs": [],
   "source": [
    "\n",
    "tokenizer2 = kerasTokenizer(num_words=MAX_NB_WORDS, filters='!\"#$%&()*+,-./:;<=>?@[\\]^_`{|}~', lower=True)\n",
    "tokenizer2.fit_on_texts(pd_df['Book_Description'].values)\n",
    "word_index = tokenizer2.word_index"
   ]
  },
  {
   "cell_type": "code",
   "execution_count": 30,
   "metadata": {
    "colab": {
     "base_uri": "https://localhost:8080/"
    },
    "id": "F9gXDDpu0n9U",
    "outputId": "f3b098f8-1f52-4e4d-95f5-531315db1f8b"
   },
   "outputs": [
    {
     "name": "stdout",
     "output_type": "stream",
     "text": [
      "[[0.90116763 0.07792377 0.02090858]] Great Read\n"
     ]
    }
   ],
   "source": [
    "# Run with a single input\n",
    "\n",
    "new_desc = [\"The zombie apocalypse is over. The humans have won. Life is back to normal. And Rip is bored as hell. It's not much of a life sitting in a call center in the poor town of Spanish Shanty, Florida, answering emails like a drone and listening to customer complaints.\"]\n",
    "seq = tokenizer2.texts_to_sequences(new_desc)\n",
    "padded = pad_sequences(seq, maxlen=MAX_SEQUENCE_LENGTH)\n",
    "pred = model2.predict(padded)\n",
    "labels =ratings\n",
    "print(pred, labels[np.argmax(pred)])"
   ]
  },
  {
   "cell_type": "code",
   "execution_count": null,
   "metadata": {
    "id": "Gs14xcOY6orY"
   },
   "outputs": [],
   "source": [
    "model2.save(\"rating_trained.h5\")"
   ]
  }
 ],
 "metadata": {
  "colab": {
   "collapsed_sections": [],
   "name": "Sequential_ML_Rating_Model.ipynb",
   "provenance": []
  },
  "kernelspec": {
   "display_name": "AdvPythonEnv",
   "language": "python",
   "name": "advpythonenv"
  },
  "language_info": {
   "codemirror_mode": {
    "name": "ipython",
    "version": 3
   },
   "file_extension": ".py",
   "mimetype": "text/x-python",
   "name": "python",
   "nbconvert_exporter": "python",
   "pygments_lexer": "ipython3",
   "version": "3.6.10"
  }
 },
 "nbformat": 4,
 "nbformat_minor": 1
}
